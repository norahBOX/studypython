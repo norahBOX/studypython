{
 "cells": [
  {
   "cell_type": "markdown",
   "metadata": {},
   "source": [
    "#신나는 파이썬\n",
    "## 1. 쉬벌 \n"
   ]
  },
  {
   "cell_type": "code",
   "execution_count": 129,
   "metadata": {},
   "outputs": [
    {
     "name": "stdout",
     "output_type": "stream",
     "text": [
      "I am tom!\n",
      "I am 575358.26      !\n",
      "I like apple and banana.\n"
     ]
    }
   ],
   "source": [
    "name = 'tom'\n",
    "print('I am ' + name + '!')\n",
    "print('I am %-15.2f!' % 575358.26)\n",
    "print('I like %s and %s.' % ('apple', 'banana'))"
   ]
  },
  {
   "cell_type": "code",
   "execution_count": 142,
   "metadata": {},
   "outputs": [
    {
     "data": {
      "text/plain": [
       "'Number 44144!'"
      ]
     },
     "execution_count": 142,
     "metadata": {},
     "output_type": "execute_result"
    }
   ],
   "source": [
    "#format\n",
    "\"I like {0}, {1}!\" .format('apple', 'banana')\n",
    "\"I like {1}, {0}!\" .format('apple', 'banana')\n",
    "\"Number {} {} {}\" .format(3,4,5)\n",
    "\n",
    "f1, f2 = 'apple', 'banana'\n",
    "\"I like {0}, {1}!\" .format(f1, f2)\n",
    "\n",
    "\"Number {0:>4}!\" .format(1) \n",
    "\"Number {0:<4}!\" .format(2) #숫자를 화살표방향으로 4만큼 밀어라. \n",
    "                            #근데 화살표 왼쪽에 암것도 없으니 공백임\n",
    "\"NUMBER {0:0<4}!\" .format(1) #숫자를 화살표방향으로 4만큼 밀고 0채워라\n",
    "\"Number {0:3<4}!\" .format(1)\n",
    "\"Number {0:4^5}!\" .format(1) #숫자 4를 5개 깔고 중간 자리에 1 넣어"
   ]
  },
  {
   "cell_type": "code",
   "execution_count": null,
   "metadata": {},
   "outputs": [],
   "source": []
  },
  {
   "cell_type": "code",
   "execution_count": null,
   "metadata": {},
   "outputs": [],
   "source": [
    "score = { \"name\":\"tom\", \"math\":80, \"english\":70 }\n",
    "type(score)"
   ]
  },
  {
   "cell_type": "code",
   "execution_count": 6,
   "metadata": {},
   "outputs": [
    {
     "data": {
      "text/plain": [
       "{'name': 'michael', 'math': 80, 'english': 70}"
      ]
     },
     "execution_count": 6,
     "metadata": {},
     "output_type": "execute_result"
    }
   ],
   "source": [
    "score['name'] = 'michael'\n",
    "score"
   ]
  },
  {
   "cell_type": "code",
   "execution_count": 9,
   "metadata": {},
   "outputs": [
    {
     "data": {
      "text/plain": [
       "{'name': 'tom', 'math': 80, 'english': 70}"
      ]
     },
     "execution_count": 9,
     "metadata": {},
     "output_type": "execute_result"
    }
   ],
   "source": [
    "score2 = dict(name = \"tom\", \n",
    "             math = 80,\n",
    "             english = 70)\n",
    "\n",
    "score2"
   ]
  },
  {
   "cell_type": "code",
   "execution_count": 14,
   "metadata": {},
   "outputs": [
    {
     "ename": "KeyError",
     "evalue": "'name'",
     "output_type": "error",
     "traceback": [
      "\u001b[1;31m----------------------------------------------------------------\u001b[0m",
      "\u001b[1;31mKeyError\u001b[0m                       Traceback (most recent call last)",
      "\u001b[1;32m<ipython-input-14-20e98e9f922b>\u001b[0m in \u001b[0;36m<module>\u001b[1;34m()\u001b[0m\n\u001b[0;32m      1\u001b[0m \u001b[1;31m#키로 딕셔너리 항목 삭제하기\u001b[0m\u001b[1;33m\u001b[0m\u001b[1;33m\u001b[0m\u001b[0m\n\u001b[0;32m      2\u001b[0m \u001b[0mscore\u001b[0m\u001b[1;33m\u001b[0m\u001b[0m\n\u001b[1;32m----> 3\u001b[1;33m \u001b[0mscore\u001b[0m\u001b[1;33m.\u001b[0m\u001b[0mpop\u001b[0m\u001b[1;33m(\u001b[0m\u001b[1;34m\"name\"\u001b[0m\u001b[1;33m)\u001b[0m\u001b[1;33m\u001b[0m\u001b[0m\n\u001b[0m",
      "\u001b[1;31mKeyError\u001b[0m: 'name'"
     ]
    }
   ],
   "source": [
    "#키로 딕셔너리 항목 삭제하기\n",
    "score.pop(\"name\")"
   ]
  },
  {
   "cell_type": "code",
   "execution_count": 17,
   "metadata": {},
   "outputs": [
    {
     "ename": "KeyError",
     "evalue": "'math'",
     "output_type": "error",
     "traceback": [
      "\u001b[1;31m----------------------------------------------------------------\u001b[0m",
      "\u001b[1;31mKeyError\u001b[0m                       Traceback (most recent call last)",
      "\u001b[1;32m<ipython-input-17-fc50821bb00e>\u001b[0m in \u001b[0;36m<module>\u001b[1;34m()\u001b[0m\n\u001b[1;32m----> 1\u001b[1;33m \u001b[0mscore\u001b[0m\u001b[1;33m.\u001b[0m\u001b[0mpop\u001b[0m\u001b[1;33m(\u001b[0m\u001b[1;34m\"math\"\u001b[0m\u001b[1;33m)\u001b[0m\u001b[1;33m\u001b[0m\u001b[0m\n\u001b[0m",
      "\u001b[1;31mKeyError\u001b[0m: 'math'"
     ]
    }
   ],
   "source": [
    "score.pop(\"math\")"
   ]
  },
  {
   "cell_type": "code",
   "execution_count": 22,
   "metadata": {},
   "outputs": [
    {
     "data": {
      "text/plain": [
       "dict_items([('name', 'tom'), ('math', 80), ('english', 70)])"
      ]
     },
     "execution_count": 22,
     "metadata": {},
     "output_type": "execute_result"
    }
   ],
   "source": [
    "score = { \"name\":\"tom\", \"math\":80, \"english\":70 }\n",
    "score.keys()\n",
    "score.values()\n",
    "score.items()"
   ]
  },
  {
   "cell_type": "code",
   "execution_count": 31,
   "metadata": {},
   "outputs": [
    {
     "data": {
      "text/plain": [
       "{'name': 'tom', 'math': 80, 'english': 70}"
      ]
     },
     "execution_count": 31,
     "metadata": {},
     "output_type": "execute_result"
    }
   ],
   "source": [
    "a = score.copy()\n",
    "a"
   ]
  },
  {
   "cell_type": "code",
   "execution_count": 34,
   "metadata": {},
   "outputs": [
    {
     "data": {
      "text/plain": [
       "set"
      ]
     },
     "execution_count": 34,
     "metadata": {},
     "output_type": "execute_result"
    }
   ],
   "source": [
    "#세트 set = 집합연산 가능하게 함\n",
    "\n",
    "a = {1, 2, 3, 4, 5}\n",
    "type(a)"
   ]
  },
  {
   "cell_type": "code",
   "execution_count": 36,
   "metadata": {},
   "outputs": [],
   "source": [
    "animal = {'dog', 'cat', 'butterfly', 'ladybug'}"
   ]
  },
  {
   "cell_type": "code",
   "execution_count": 37,
   "metadata": {},
   "outputs": [],
   "source": [
    "animol = { 'dog', 'cat', 'saja','horang'}"
   ]
  },
  {
   "cell_type": "code",
   "execution_count": 41,
   "metadata": {},
   "outputs": [
    {
     "data": {
      "text/plain": [
       "{'butterfly', 'horang', 'ladybug', 'saja'}"
      ]
     },
     "execution_count": 41,
     "metadata": {},
     "output_type": "execute_result"
    }
   ],
   "source": [
    "animal & animol\n",
    "animal | animol\n",
    "animal ^ animol#대칭차집합 set.symmetric_difference\n"
   ]
  },
  {
   "cell_type": "code",
   "execution_count": 43,
   "metadata": {},
   "outputs": [
    {
     "data": {
      "text/plain": [
       "False"
      ]
     },
     "execution_count": 43,
     "metadata": {},
     "output_type": "execute_result"
    }
   ],
   "source": [
    "#상위집합 하위집합 구분. isupperset 부등호가 낫다\n",
    "\n",
    "animal >= animol"
   ]
  },
  {
   "cell_type": "code",
   "execution_count": 51,
   "metadata": {},
   "outputs": [
    {
     "data": {
      "text/plain": [
       "{2, 3, 4, 5}"
      ]
     },
     "execution_count": 51,
     "metadata": {},
     "output_type": "execute_result"
    }
   ],
   "source": [
    "#set에 요소 추가하고 삭제하기\n",
    "a.add(5)\n",
    "a #이미 있는 5를 삽입했더니 그대로임. 정말 집합 그 자체....\n",
    "\n",
    "\n"
   ]
  },
  {
   "cell_type": "code",
   "execution_count": 52,
   "metadata": {},
   "outputs": [
    {
     "ename": "KeyError",
     "evalue": "1",
     "output_type": "error",
     "traceback": [
      "\u001b[1;31m----------------------------------------------------------------\u001b[0m",
      "\u001b[1;31mKeyError\u001b[0m                       Traceback (most recent call last)",
      "\u001b[1;32m<ipython-input-52-23b4d84ce1c4>\u001b[0m in \u001b[0;36m<module>\u001b[1;34m()\u001b[0m\n\u001b[1;32m----> 1\u001b[1;33m \u001b[0ma\u001b[0m\u001b[1;33m.\u001b[0m\u001b[0mremove\u001b[0m\u001b[1;33m(\u001b[0m\u001b[1;36m1\u001b[0m\u001b[1;33m)\u001b[0m\u001b[1;33m\u001b[0m\u001b[0m\n\u001b[0m",
      "\u001b[1;31mKeyError\u001b[0m: 1"
     ]
    }
   ],
   "source": [
    "a.remove(1)"
   ]
  },
  {
   "cell_type": "code",
   "execution_count": 56,
   "metadata": {},
   "outputs": [
    {
     "name": "stdout",
     "output_type": "stream",
     "text": [
      "x is 10\n",
      "x is 10\n",
      "x 끝\n"
     ]
    }
   ],
   "source": [
    "#if문\n",
    "x = 10\n",
    "if x == 10 : #조건이 true이면 밑에가 실행된다. \n",
    "    print('x is 10')\n",
    "    print('x is 10')#4칸이 공식적, 혹은 탭 한 번. 게다가 안에 있는 애들은 똑같이 줄 맞춰줘야해\n",
    "    #대체 어느 결벽증또라이가 만든건지 모르겠다. \n",
    "    \n",
    "    #pass라는 게 있다. \n",
    "print('x 끝')\n"
   ]
  },
  {
   "cell_type": "code",
   "execution_count": 58,
   "metadata": {},
   "outputs": [
    {
     "name": "stdout",
     "output_type": "stream",
     "text": [
      "막창파티\n"
     ]
    }
   ],
   "source": [
    "x = 21 \n",
    "if 0 < x < 20 : #and 없이 이런 것도 가능.. 이건 좋네\n",
    "    print('신난다')\n",
    "\n",
    "print('막창파티')"
   ]
  },
  {
   "cell_type": "code",
   "execution_count": 61,
   "metadata": {},
   "outputs": [
    {
     "name": "stdout",
     "output_type": "stream",
     "text": [
      "통과하셧슴\n"
     ]
    }
   ],
   "source": [
    "x = 11\n",
    "y = 5\n",
    "\n",
    "if x > 10 : \n",
    "    \n",
    "    if y == 3 :\n",
    "        print('지혜의 시험')\n",
    "\n",
    "print('통과하셧슴')"
   ]
  },
  {
   "cell_type": "code",
   "execution_count": 62,
   "metadata": {},
   "outputs": [
    {
     "name": "stdout",
     "output_type": "stream",
     "text": [
      "B\n"
     ]
    }
   ],
   "source": [
    "jumsu = 87\n",
    "\n",
    "if jumsu >= 90 :\n",
    "    print('A')\n",
    "    \n",
    "elif 80 <= jumsu < 90 :\n",
    "    print('B')\n",
    "elif 70 <= jumsu < 80 :\n",
    "    print('C')\n",
    "else : \n",
    "    print('F')"
   ]
  },
  {
   "cell_type": "code",
   "execution_count": 74,
   "metadata": {},
   "outputs": [
    {
     "name": "stdout",
     "output_type": "stream",
     "text": [
      "58\n",
      "60\n",
      "99\n",
      "불합격\n"
     ]
    }
   ],
   "source": [
    "#실습문제\n",
    "\n",
    "x = int(input())\n",
    "y = int(input())\n",
    "z = int(input())\n",
    "\n",
    "if 0 <= x <= 100 and 0 <= y <= 100 and 0 <= z <= 100 :\n",
    "    \n",
    "    if x > 65 and y > 65 and z > 65 :\n",
    "        print('합격')\n",
    "        \n",
    "    else :\n",
    "        print('불합격')\n",
    "        \n",
    "else : \n",
    "    print('잘못입력함')"
   ]
  },
  {
   "cell_type": "code",
   "execution_count": 80,
   "metadata": {},
   "outputs": [
    {
     "name": "stdout",
     "output_type": "stream",
     "text": [
      "첫번째 점수 : 200\n",
      "두번째 점수 : 200\n",
      "세번째 점수 : 50\n",
      "200 200 50\n",
      "잘못된 점수 입력됨\n"
     ]
    }
   ],
   "source": [
    "#선생님 답안\n",
    "\n",
    "score1 = int(input('첫번째 점수 : '))\n",
    "score2 = int(input('두번째 점수 : '))\n",
    "score3 = int(input('세번째 점수 : '))\n",
    "print( score1, score2, score3 )\n",
    "\n",
    "if not(0 < score1 < 100 and 0 < score2 < 100 and 0 < score3 < 100) : \n",
    "    print('잘못된 점수 입력됨')\n",
    "    \n",
    "elif (score1 > 65 and score2 > 65 and score3 > 65) :  ##1\n",
    "        print('합격')\n",
    "else :\n",
    "        print('불합격')\n",
    "        \n"
   ]
  }
 ],
 "metadata": {
  "kernelspec": {
   "display_name": "Python 3",
   "language": "python",
   "name": "python3"
  },
  "language_info": {
   "codemirror_mode": {
    "name": "ipython",
    "version": 3
   },
   "file_extension": ".py",
   "mimetype": "text/x-python",
   "name": "python",
   "nbconvert_exporter": "python",
   "pygments_lexer": "ipython3",
   "version": "3.6.5"
  }
 },
 "nbformat": 4,
 "nbformat_minor": 2
}
