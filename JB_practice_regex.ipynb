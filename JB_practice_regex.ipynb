{
 "cells": [
  {
   "cell_type": "markdown",
   "metadata": {},
   "source": [
    "# 정규표현식과 python re 패키지로 내가 원하는 부분만 쏙쏙\n",
    "\n",
    "참고 문헌 : <br>\n",
    "https://ponyozzang.tistory.com/279 <br>\n",
    "https://wikidocs.net/4308"
   ]
  },
  {
   "cell_type": "code",
   "execution_count": 1,
   "metadata": {},
   "outputs": [],
   "source": [
    "import re"
   ]
  },
  {
   "cell_type": "markdown",
   "metadata": {},
   "source": [
    "정규식으로 고고 <br>\n",
    "1) match, group"
   ]
  },
  {
   "cell_type": "code",
   "execution_count": 3,
   "metadata": {},
   "outputs": [
    {
     "name": "stdout",
     "output_type": "stream",
     "text": [
      "ca\n"
     ]
    }
   ],
   "source": [
    "pattern = r\"ca\" #패턴을 미리 저장할 수 있다. 앞에 r은 뭐지? \n",
    "text = \"caabsacasca\"\n",
    "matchOB = re.match(pattern, text)\n",
    "\n",
    "if matchOB : \n",
    "    print(matchOB.group())\n"
   ]
  },
  {
   "cell_type": "code",
   "execution_count": 4,
   "metadata": {},
   "outputs": [
    {
     "name": "stdout",
     "output_type": "stream",
     "text": [
      "0 6 (0, 6)\n"
     ]
    }
   ],
   "source": [
    "pattern = r\"\\[[가-힣]*\\]\"\n",
    "text = \"[삼성전자] 무풍 에어컨 237,000원\"\n",
    "matchOB = re.match(pattern, text)\n",
    "matchOB.group()\n",
    "\n",
    "print(matchOB.start(), matchOB.end(), matchOB.span())"
   ]
  },
  {
   "cell_type": "markdown",
   "metadata": {},
   "source": [
    "2) search <br>\n",
    "match와 다른 점 : match는 패턴의 시작부분이 매칭되어야 찾아줌.<br>\n",
    "search는 시작부분이 매칭되지 않아도 찾아줌. "
   ]
  },
  {
   "cell_type": "code",
   "execution_count": 5,
   "metadata": {},
   "outputs": [
    {
     "name": "stdout",
     "output_type": "stream",
     "text": [
      "서치 :  aa\n"
     ]
    }
   ],
   "source": [
    "pattern = r'aa'\n",
    "text = \"caabsacasca\"\n",
    "searchOB = re.search(pattern, text)\n",
    "\n",
    "print('서치 : ' , searchOB.group())\n",
    "\n",
    "pattern = r\"aa\" #패턴을 미리 저장할 수 있다. 앞에 r은 뭐지? \n",
    "text = \"caabsacasca\"\n",
    "matchOB = re.match(pattern, text)\n",
    "\n",
    "if matchOB : \n",
    "    print('매치 : ', matchOB.group()) #서치와 비교했을 때 아무것도 출력되지 않는 것을 알 수 있다. "
   ]
  },
  {
   "cell_type": "code",
   "execution_count": 6,
   "metadata": {},
   "outputs": [
    {
     "ename": "AttributeError",
     "evalue": "'NoneType' object has no attribute 'group'",
     "output_type": "error",
     "traceback": [
      "\u001b[1;31m---------------------------------------------------------------------------\u001b[0m",
      "\u001b[1;31mAttributeError\u001b[0m                            Traceback (most recent call last)",
      "\u001b[1;32m<ipython-input-6-32e794ec1ae0>\u001b[0m in \u001b[0;36m<module>\u001b[1;34m\u001b[0m\n\u001b[0;32m     10\u001b[0m \u001b[1;33m\u001b[0m\u001b[0m\n\u001b[0;32m     11\u001b[0m \u001b[0mmatch_ex\u001b[0m \u001b[1;33m=\u001b[0m \u001b[0mre\u001b[0m\u001b[1;33m.\u001b[0m\u001b[0mmatch\u001b[0m\u001b[1;33m(\u001b[0m\u001b[0mpattern\u001b[0m\u001b[1;33m,\u001b[0m \u001b[0mtext\u001b[0m\u001b[1;33m)\u001b[0m\u001b[1;33m\u001b[0m\u001b[1;33m\u001b[0m\u001b[0m\n\u001b[1;32m---> 12\u001b[1;33m \u001b[0mmatch_ex\u001b[0m\u001b[1;33m.\u001b[0m\u001b[0mgroup\u001b[0m\u001b[1;33m(\u001b[0m\u001b[1;33m)\u001b[0m \u001b[1;31m#nonetype\u001b[0m\u001b[1;33m\u001b[0m\u001b[1;33m\u001b[0m\u001b[0m\n\u001b[0m",
      "\u001b[1;31mAttributeError\u001b[0m: 'NoneType' object has no attribute 'group'"
     ]
    }
   ],
   "source": [
    "pattern = r\"\\[[가-힣]*\\]\"\n",
    "text = \"[삼성전자] 무풍 에어컨 237,000원\"\n",
    "search_ex = re.search(pattern, text)\n",
    "search_ex.group()\n",
    "\n",
    "pattern = r\"무풍\"\n",
    "text = \"[삼성전자] 무풍 에어컨 237,000원\"\n",
    "search_ex = re.search(pattern, text)\n",
    "search_ex.group() #무풍 나옴\n",
    "\n",
    "match_ex = re.match(pattern, text)\n",
    "match_ex.group() #nonetype 예아 에러난다. 왜냐면 아무것도 없기 때문이다. "
   ]
  },
  {
   "cell_type": "markdown",
   "metadata": {},
   "source": [
    "3) findall() : group 불가"
   ]
  },
  {
   "cell_type": "code",
   "execution_count": 8,
   "metadata": {},
   "outputs": [
    {
     "name": "stdout",
     "output_type": "stream",
     "text": [
      "['ca', 'ca', 'ca']\n",
      "['bsa']\n"
     ]
    }
   ],
   "source": [
    "pattern = r'ca'\n",
    "text = \"caabsacasca\"\n",
    "\n",
    "matchedlist = re.findall(pattern, text)\n",
    "if matchedlist : \n",
    "    print(matchedlist)\n",
    "\n",
    "pattern = r'bsa'\n",
    "matchedlist = re.findall(pattern, text) #막바로 리스트로 나온다. \n",
    "if matchedlist : \n",
    "    print(matchedlist)"
   ]
  },
  {
   "cell_type": "code",
   "execution_count": 34,
   "metadata": {},
   "outputs": [
    {
     "name": "stdout",
     "output_type": "stream",
     "text": [
      "['[삼성전자]', '[샤오미]', '[LG전자]']\n",
      "['237,000', '10,000', '103,008,000']\n"
     ]
    }
   ],
   "source": [
    "\n",
    "text = \"\"\"\n",
    "[삼성전자] 무풍 에어컨 237,000원\n",
    "[샤오미] 보조배터리 10,000원\n",
    "[LG전자] LG스타일러 103,008,000원\n",
    "\"\"\"\n",
    "\n",
    "#1. 브랜드명\n",
    "pattern = r\"\\[[가-힣A-z]+\\]\"\n",
    "brand = re.findall(pattern, text)\n",
    "print(brand)\n",
    "\n",
    "#2. 가격\n",
    "pattern = r\"[0-9,]+\"\n",
    "#[0-9,]*를 하려 그랬는데 잘 안됐다. \n",
    "#만약 콤마가 세 개 이상이면 안 먹히는 패턴이 될 텐데... 시발\n",
    "#아 *이 아니라 +를 해주면 된다. \n",
    "price = re.findall(pattern, text)\n",
    "print(price)\n",
    "\n",
    "\n",
    "#3. 제품 이름\n",
    "#이건 re.sub을 사용해볼까? 흠\n"
   ]
  },
  {
   "cell_type": "markdown",
   "metadata": {},
   "source": [
    "4) finditer() : group 가능 <br>\n",
    "\n",
    "iterator 란? 각각의 match객체로 돌려준다는 말임. \n"
   ]
  },
  {
   "cell_type": "code",
   "execution_count": 79,
   "metadata": {},
   "outputs": [
    {
     "name": "stdout",
     "output_type": "stream",
     "text": [
      "ca\n",
      "ca\n",
      "ca\n"
     ]
    }
   ],
   "source": [
    "pattern = r'ca'\n",
    "text = \"caabsacasca\"\n",
    "\n",
    "iterator = re.finditer(pattern, text) \n",
    "iterator\n",
    "for match in iterator : \n",
    "    print(match.group())"
   ]
  },
  {
   "cell_type": "markdown",
   "metadata": {},
   "source": [
    "만약 크롤링을 통해 얻은 이러한 자료가 있다면, 어떻게 얘네를 분리할 것인지 생각해보자. "
   ]
  },
  {
   "cell_type": "code",
   "execution_count": 75,
   "metadata": {},
   "outputs": [
    {
     "name": "stdout",
     "output_type": "stream",
     "text": [
      "['[삼성전자]', '[샤오미]', '[LG전자]']\n"
     ]
    }
   ],
   "source": [
    "text =[\"[삼성전자] 무풍 에어컨 237,000원\", \"[샤오미] 보조배터리 10,000원\", \"[LG전자] LG스타일러 103,008,000원\"]\n",
    "\n",
    "#이 text를 분리하고 싶은것임. 종류별로. \n",
    "\n",
    "#1. 브랜드명\n",
    "brand = []\n",
    "brand_span = []\n",
    "\n",
    "pattern = r\"\\[[가-힣A-z]+\\]\"\n",
    "\n",
    "for i in range(len(text)) : \n",
    "    a = re.match(pattern, text[i])\n",
    "    brand.append(a.group())\n",
    "    brand_span.append(a.span())\n",
    "    \n",
    "print(brand)\n"
   ]
  },
  {
   "cell_type": "code",
   "execution_count": 69,
   "metadata": {},
   "outputs": [
    {
     "name": "stdout",
     "output_type": "stream",
     "text": [
      "['237,000', '10,000', '103,008,000']\n",
      "[(14, 21), (12, 18), (14, 25)]\n"
     ]
    }
   ],
   "source": [
    "#2. 가격\n",
    "text =[\"[삼성전자] 무풍 에어컨 237,000원\", \"[샤오미] 보조배터리 10,000원\", \"[LG전자] LG스타일러 103,008,000원\"]\n",
    "\n",
    "price = []\n",
    "price_span = []\n",
    "pattern = r\"[0-9,]+\"\n",
    "\n",
    "#[0-9,]*를 하려 그랬는데 잘 안됐다. \n",
    "#만약 콤마가 세 개 이상이면 안 먹히는 패턴이 될 텐데... 시발\n",
    "#아 *이 아니라 +를 해주면 된다. \n",
    "for i in range(len(text)) : \n",
    "    a = re.search(pattern, text[i])\n",
    "    price.append(a.group())\n",
    "    price_span.append(a.span())\n",
    "    \n",
    "print(price)\n",
    "print(price_span)"
   ]
  },
  {
   "cell_type": "code",
   "execution_count": 77,
   "metadata": {},
   "outputs": [
    {
     "name": "stdout",
     "output_type": "stream",
     "text": [
      "['무풍 에어컨', '보조배터리', 'LG스타일러']\n"
     ]
    }
   ],
   "source": [
    "#3. 제품 이름\n",
    "#이건 re.sub을 사용해볼까? 흠\n",
    "name = []\n",
    "\n",
    "for i in range(len(text)) : \n",
    "    a = text[i][ brand_span[i][1]+1 : price_span[i][0]-1]\n",
    "    name.append(a)\n",
    "print(name)"
   ]
  }
 ],
 "metadata": {
  "kernelspec": {
   "display_name": "Python 3",
   "language": "python",
   "name": "python3"
  },
  "language_info": {
   "codemirror_mode": {
    "name": "ipython",
    "version": 3
   },
   "file_extension": ".py",
   "mimetype": "text/x-python",
   "name": "python",
   "nbconvert_exporter": "python",
   "pygments_lexer": "ipython3",
   "version": "3.6.8"
  }
 },
 "nbformat": 4,
 "nbformat_minor": 2
}
