{
 "cells": [
  {
   "cell_type": "markdown",
   "metadata": {},
   "source": [
    "# keras SimpleRNN Data Input Format : 1차원 데이터를 SimpleRNN에 3차원으로 input 하기\n",
    "\n",
    "- [0) 데이터 준비](#데이터-준비) <br>\n",
    "- [1) 방법 1](#방법-1)<br>\n",
    "- [2) 방법 2](#방법-2) <br>\n",
    "    - [첫 번째 방법과 두 번째 방법의 적용 차이](#첫-번째-방법과-두-번째-방법의-적용-차이) <br>\n",
    "- [3) 방법 3](#방법-3)<br>\n",
    "- [4) 방법 4](#방법-4)<br>\n"
   ]
  },
  {
   "cell_type": "markdown",
   "metadata": {},
   "source": [
    "\n",
    "## 데이터 준비"
   ]
  },
  {
   "cell_type": "code",
   "execution_count": null,
   "metadata": {},
   "outputs": [],
   "source": [
    "import pandas as pd\n",
    "import numpy as np\n",
    "import matplotlib.pyplot as plt\n",
    "\n",
    "import tensorflow as tf\n",
    "from tensorflow.keras.models import Sequential\n",
    "from tensorflow.python.keras.layers import Dense, SimpleRNN"
   ]
  },
  {
   "cell_type": "code",
   "execution_count": null,
   "metadata": {},
   "outputs": [],
   "source": [
    "TIMESTEPS = 3\n",
    "sample = np.array(['a', 'b', 'c', 'd', 'e', 'f', 'g', \n",
    "          'h', 'i', 'j', 'k', 'l', 'm', 'n', \n",
    "          'o', 'p', 'q', 'r', 's', 't', 'u', \n",
    "          'v', 'w', 'x', 'y', 'z'])\n",
    "\n",
    "train = sample[ :15]\n",
    "test = sample[16: ]\n",
    "\n",
    "print(train, train.shape)\n",
    "print(test, test.shape)"
   ]
  },
  {
   "cell_type": "markdown",
   "metadata": {},
   "source": [
    "## 방법 1\n",
    "https://www.datatechnotes.com/2018/12/rnn-example-with-keras-simplernn-in.html"
   ]
  },
  {
   "cell_type": "code",
   "execution_count": null,
   "metadata": {},
   "outputs": [],
   "source": [
    "# 기존 시퀀스 뒤꽁무늬에 timestep 만큼 데이터를 조금 더 채워넣는다. \n",
    "train = np.append(train, np.repeat(train[-1,], TIMESTEPS))\n",
    "test = np.append(test, np.repeat(test[-1,], TIMESTEPS))\n",
    "\n",
    "print(train)\n",
    "print(test)"
   ]
  },
  {
   "cell_type": "code",
   "execution_count": null,
   "metadata": {},
   "outputs": [],
   "source": [
    "# 2차원 array로 만든다. \n",
    "def convertToMatrix(data, TIMESTEPS) : \n",
    "    X, Y =[], []\n",
    "    \n",
    "    for i in range(len(data) - TIMESTEPS):\n",
    "        d = i + TIMESTEPS  \n",
    "        X.append(data[i:d,])\n",
    "        Y.append(data[d,])\n",
    "    return np.array(X), np.array(Y)\n",
    "\n",
    "trainX,trainY = convertToMatrix(train, TIMESTEPS)\n",
    "testX,testY = convertToMatrix(test, TIMESTEPS)\n",
    "\n",
    "# 확인해본다. \n",
    "trainX.shape\n",
    "trainY.shape\n",
    "for i in range(15) : \n",
    "    print('trainX :', trainX[i], ' trainY : ', trainY[i])"
   ]
  },
  {
   "cell_type": "code",
   "execution_count": null,
   "metadata": {},
   "outputs": [],
   "source": [
    "# 만든 것을 3차원으로 만든다. \n",
    "\n",
    "trainX = np.reshape(trainX, (trainX.shape[0], 1, trainX.shape[1]))\n",
    "testX = np.reshape(testX, (testX.shape[0], 1, testX.shape[1]))\n",
    "trainX.shape # (sample size, 1, timestep) 순으로 나타나게 된다. "
   ]
  },
  {
   "cell_type": "markdown",
   "metadata": {},
   "source": [
    "## 방법 2\n",
    "https://frhyme.github.io/machine-learning/simple_rnn/"
   ]
  },
  {
   "cell_type": "code",
   "execution_count": null,
   "metadata": {},
   "outputs": [],
   "source": [
    "def maker(data) : \n",
    "    xs, ys = [], []\n",
    "\n",
    "    for i in range(TIMESTEPS, len(data)): \n",
    "        xs.append(np.array([data[i-j] for j in range(TIMESTEPS, 0, -1)]))  \n",
    "        ys.append(data[i])\n",
    "        \n",
    "    xs, ys = np.array(xs).reshape(len(xs), TIMESTEPS, 1), np.array(ys).reshape(len(ys), 1)\n",
    "    \n",
    "    return xs, ys\n",
    "\n",
    "trainX, trainY = maker(train)"
   ]
  },
  {
   "cell_type": "markdown",
   "metadata": {},
   "source": [
    "### 첫 번째 방법과 두 번째 방법의 적용 차이\n",
    "\n",
    "첫 번째 방법 : model.add(SimpleRNN(units = 128, input_shape = (1, TIMESTEPS), activation=\"relu\")) <br>\n",
    "두 번째 방법 : model.add(SimpleRNN(units = 128, input_shape = (TIMESTEPS, 1), activation=\"relu\"))"
   ]
  },
  {
   "cell_type": "markdown",
   "metadata": {},
   "source": [
    "## 방법 3\n",
    "https://3months.tistory.com/168 "
   ]
  },
  {
   "cell_type": "code",
   "execution_count": null,
   "metadata": {},
   "outputs": [],
   "source": [
    "import copy \n",
    "\n",
    "train = sample[ :15] # a부터 o까지의 알파벳 1차원 배열\n",
    "test = sample[16: ] \n",
    "\n",
    "def method3(arraydata) : \n",
    "    new = copy.deepcopy(arraydata)\n",
    "\n",
    "    for i in range(0, TIMESTEPS) : \n",
    "        temp = np.roll(arraydata, i + 1) \n",
    "\n",
    "        for j in range(0, i+1) : \n",
    "            temp[j] = None\n",
    "\n",
    "        new = np.vstack([new, temp])\n",
    "    \n",
    "    new = new.transpose()\n",
    "    new = new[TIMESTEPS:]\n",
    "    new = new.transpose()\n",
    "    \n",
    "    ys = new[0]\n",
    "    new = t = np.delete(new, 0, axis = 0)\n",
    "    \n",
    "    xs = new.transpose() \n",
    "    \n",
    "    return xs, ys\n"
   ]
  },
  {
   "cell_type": "code",
   "execution_count": null,
   "metadata": {},
   "outputs": [],
   "source": [
    "trainX, trainY = method3(train)\n",
    "\n",
    "trainX = trainX.reshape(trainX.shape[0], TIMESTEPS, 1)\n",
    "\n",
    "trainX.shape #12, 3, 1"
   ]
  },
  {
   "cell_type": "markdown",
   "metadata": {},
   "source": [
    "## 방법 4\n",
    "https://datascienceschool.net/view-notebook/1d93b9dc6c624fbaa6af2ce9290e2479/"
   ]
  },
  {
   "cell_type": "code",
   "execution_count": null,
   "metadata": {},
   "outputs": [],
   "source": [
    "from scipy.linalg import toeplitz"
   ]
  },
  {
   "cell_type": "code",
   "execution_count": null,
   "metadata": {},
   "outputs": [],
   "source": [
    "garo = np.append(train[-1], np.zeros(train.shape[0] - TIMESTEPS))\n",
    "sero = train[::-1] # 맨 마지막부터 데이터를 거꾸로 배열하는 인덱싱\n",
    "\n",
    "S = np.fliplr( toeplitz(garo, sero) )\n",
    "# np.fliplr : 행렬의 행 별로 원소 순서 거꾸로 만들어 주는 함수\n",
    "\n",
    "# 샘플 확인\n",
    "print(S[:TIMESTEPS, :TIMESTEPS])\n",
    "print(S.shape)"
   ]
  },
  {
   "cell_type": "code",
   "execution_count": null,
   "metadata": {},
   "outputs": [],
   "source": [
    "trainX = S[: , 0:TIMESTEPS]\n",
    "trainY = S[:, TIMESTEPS]\n",
    "\n",
    "trainX = trainX.reshape((trainX.shape[0], TIMESTEPS, 1))"
   ]
  }
 ],
 "metadata": {
  "kernelspec": {
   "display_name": "Python 3",
   "language": "python",
   "name": "python3"
  },
  "language_info": {
   "codemirror_mode": {
    "name": "ipython",
    "version": 3
   },
   "file_extension": ".py",
   "mimetype": "text/x-python",
   "name": "python",
   "nbconvert_exporter": "python",
   "pygments_lexer": "ipython3",
   "version": "3.7.6"
  }
 },
 "nbformat": 4,
 "nbformat_minor": 4
}
