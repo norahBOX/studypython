{
 "cells": [
  {
   "cell_type": "code",
   "execution_count": 1,
   "metadata": {},
   "outputs": [],
   "source": [
    "import pandas as pd\n",
    "import numpy as np\n"
   ]
  },
  {
   "cell_type": "markdown",
   "metadata": {},
   "source": [
    "## 1. Pandas DataFrame\n"
   ]
  },
  {
   "cell_type": "code",
   "execution_count": 2,
   "metadata": {},
   "outputs": [
    {
     "data": {
      "text/plain": [
       "pizza      17000\n",
       "chicken    18000\n",
       "coke        1000\n",
       "beer        5000\n",
       "dtype: int64"
      ]
     },
     "execution_count": 2,
     "metadata": {},
     "output_type": "execute_result"
    }
   ],
   "source": [
    "ser = pd.Series([17000, 18000, 1000, 5000] , \n",
    "               index = ['pizza', 'chicken', 'coke', 'beer'])\n",
    "ser"
   ]
  },
  {
   "cell_type": "code",
   "execution_count": 3,
   "metadata": {},
   "outputs": [
    {
     "data": {
      "text/plain": [
       "array([17000, 18000,  1000,  5000], dtype=int64)"
      ]
     },
     "execution_count": 3,
     "metadata": {},
     "output_type": "execute_result"
    }
   ],
   "source": [
    "ser.values"
   ]
  },
  {
   "cell_type": "code",
   "execution_count": 4,
   "metadata": {},
   "outputs": [
    {
     "data": {
      "text/plain": [
       "Index(['pizza', 'chicken', 'coke', 'beer'], dtype='object')"
      ]
     },
     "execution_count": 4,
     "metadata": {},
     "output_type": "execute_result"
    }
   ],
   "source": [
    "ser.index"
   ]
  },
  {
   "cell_type": "code",
   "execution_count": 5,
   "metadata": {},
   "outputs": [
    {
     "name": "stdout",
     "output_type": "stream",
     "text": [
      "chicken    18000\n",
      "coke        1000\n",
      "beer        5000\n",
      "dtype: int64\n",
      "pizza      17000\n",
      "chicken    18000\n",
      "dtype: int64\n"
     ]
    }
   ],
   "source": [
    "ser[0]\n",
    "ser[1]\n",
    "ser[2]\n",
    "ser['pizza']\n",
    "print(ser[1:])\n",
    "print(ser[:2]) \n"
   ]
  },
  {
   "cell_type": "code",
   "execution_count": 6,
   "metadata": {},
   "outputs": [
    {
     "data": {
      "text/plain": [
       "pizza      False\n",
       "chicken    False\n",
       "coke        True\n",
       "beer        True\n",
       "dtype: bool"
      ]
     },
     "execution_count": 6,
     "metadata": {},
     "output_type": "execute_result"
    }
   ],
   "source": [
    "ser.isin([1000])\n",
    "ser.isin([1000,5000])"
   ]
  },
  {
   "cell_type": "markdown",
   "metadata": {},
   "source": [
    "SERIES로 DF만들기"
   ]
  },
  {
   "cell_type": "code",
   "execution_count": 7,
   "metadata": {},
   "outputs": [
    {
     "name": "stdout",
     "output_type": "stream",
     "text": [
      "             0\n",
      "pizza    17000\n",
      "chicken  18000\n",
      "coke      1000\n",
      "beer      5000\n"
     ]
    },
    {
     "data": {
      "text/html": [
       "<div>\n",
       "<style scoped>\n",
       "    .dataframe tbody tr th:only-of-type {\n",
       "        vertical-align: middle;\n",
       "    }\n",
       "\n",
       "    .dataframe tbody tr th {\n",
       "        vertical-align: top;\n",
       "    }\n",
       "\n",
       "    .dataframe thead th {\n",
       "        text-align: right;\n",
       "    }\n",
       "</style>\n",
       "<table border=\"1\" class=\"dataframe\">\n",
       "  <thead>\n",
       "    <tr style=\"text-align: right;\">\n",
       "      <th></th>\n",
       "      <th>price</th>\n",
       "    </tr>\n",
       "  </thead>\n",
       "  <tbody>\n",
       "    <tr>\n",
       "      <th>pizza</th>\n",
       "      <td>17000</td>\n",
       "    </tr>\n",
       "    <tr>\n",
       "      <th>chicken</th>\n",
       "      <td>18000</td>\n",
       "    </tr>\n",
       "    <tr>\n",
       "      <th>coke</th>\n",
       "      <td>1000</td>\n",
       "    </tr>\n",
       "    <tr>\n",
       "      <th>beer</th>\n",
       "      <td>5000</td>\n",
       "    </tr>\n",
       "  </tbody>\n",
       "</table>\n",
       "</div>"
      ],
      "text/plain": [
       "         price\n",
       "pizza    17000\n",
       "chicken  18000\n",
       "coke      1000\n",
       "beer      5000"
      ]
     },
     "execution_count": 7,
     "metadata": {},
     "output_type": "execute_result"
    }
   ],
   "source": [
    "df = pd.DataFrame(ser)\n",
    "print(df)\n",
    "df1 = pd.DataFrame(ser.values, index = ser.index , columns = ['price'])\n",
    "df1"
   ]
  },
  {
   "cell_type": "code",
   "execution_count": 8,
   "metadata": {},
   "outputs": [
    {
     "name": "stdout",
     "output_type": "stream",
     "text": [
      "Index(['pizza', 'chicken', 'coke', 'beer'], dtype='object')\n",
      "[[17000]\n",
      " [18000]\n",
      " [ 1000]\n",
      " [ 5000]]\n"
     ]
    },
    {
     "data": {
      "text/html": [
       "<div>\n",
       "<style scoped>\n",
       "    .dataframe tbody tr th:only-of-type {\n",
       "        vertical-align: middle;\n",
       "    }\n",
       "\n",
       "    .dataframe tbody tr th {\n",
       "        vertical-align: top;\n",
       "    }\n",
       "\n",
       "    .dataframe thead th {\n",
       "        text-align: right;\n",
       "    }\n",
       "</style>\n",
       "<table border=\"1\" class=\"dataframe\">\n",
       "  <thead>\n",
       "    <tr style=\"text-align: right;\">\n",
       "      <th></th>\n",
       "      <th>price</th>\n",
       "    </tr>\n",
       "  </thead>\n",
       "  <tbody>\n",
       "    <tr>\n",
       "      <th>coke</th>\n",
       "      <td>1000</td>\n",
       "    </tr>\n",
       "    <tr>\n",
       "      <th>beer</th>\n",
       "      <td>5000</td>\n",
       "    </tr>\n",
       "  </tbody>\n",
       "</table>\n",
       "</div>"
      ],
      "text/plain": [
       "      price\n",
       "coke   1000\n",
       "beer   5000"
      ]
     },
     "execution_count": 8,
     "metadata": {},
     "output_type": "execute_result"
    }
   ],
   "source": [
    "print(df1.index)\n",
    "print(df1.values)\n",
    "df1.head(2)\n",
    "df1.tail(2)\n"
   ]
  },
  {
   "cell_type": "markdown",
   "metadata": {},
   "source": [
    "Dictionary로 DF만들기\n"
   ]
  },
  {
   "cell_type": "code",
   "execution_count": 9,
   "metadata": {},
   "outputs": [],
   "source": [
    "new_df = {\"name\" : ['cityace', 'z125', 'cbr125'] , \n",
    "        \"cc\" : [100, 125, 125] , \n",
    "         \"price\" : [30, 300, 200]}\n",
    "new_df = pd.DataFrame(new_df)\n"
   ]
  },
  {
   "cell_type": "code",
   "execution_count": 10,
   "metadata": {},
   "outputs": [],
   "source": [
    "new_df.head()\n",
    "new_df.index = [1,2,3]\n"
   ]
  },
  {
   "cell_type": "code",
   "execution_count": 11,
   "metadata": {},
   "outputs": [
    {
     "data": {
      "text/html": [
       "<div>\n",
       "<style scoped>\n",
       "    .dataframe tbody tr th:only-of-type {\n",
       "        vertical-align: middle;\n",
       "    }\n",
       "\n",
       "    .dataframe tbody tr th {\n",
       "        vertical-align: top;\n",
       "    }\n",
       "\n",
       "    .dataframe thead th {\n",
       "        text-align: right;\n",
       "    }\n",
       "</style>\n",
       "<table border=\"1\" class=\"dataframe\">\n",
       "  <thead>\n",
       "    <tr style=\"text-align: right;\">\n",
       "      <th></th>\n",
       "      <th>cc</th>\n",
       "      <th>price</th>\n",
       "    </tr>\n",
       "  </thead>\n",
       "  <tbody>\n",
       "    <tr>\n",
       "      <th>count</th>\n",
       "      <td>3.000000</td>\n",
       "      <td>3.000000</td>\n",
       "    </tr>\n",
       "    <tr>\n",
       "      <th>mean</th>\n",
       "      <td>116.666667</td>\n",
       "      <td>176.666667</td>\n",
       "    </tr>\n",
       "    <tr>\n",
       "      <th>std</th>\n",
       "      <td>14.433757</td>\n",
       "      <td>136.503968</td>\n",
       "    </tr>\n",
       "    <tr>\n",
       "      <th>min</th>\n",
       "      <td>100.000000</td>\n",
       "      <td>30.000000</td>\n",
       "    </tr>\n",
       "    <tr>\n",
       "      <th>25%</th>\n",
       "      <td>112.500000</td>\n",
       "      <td>115.000000</td>\n",
       "    </tr>\n",
       "    <tr>\n",
       "      <th>50%</th>\n",
       "      <td>125.000000</td>\n",
       "      <td>200.000000</td>\n",
       "    </tr>\n",
       "    <tr>\n",
       "      <th>75%</th>\n",
       "      <td>125.000000</td>\n",
       "      <td>250.000000</td>\n",
       "    </tr>\n",
       "    <tr>\n",
       "      <th>max</th>\n",
       "      <td>125.000000</td>\n",
       "      <td>300.000000</td>\n",
       "    </tr>\n",
       "  </tbody>\n",
       "</table>\n",
       "</div>"
      ],
      "text/plain": [
       "               cc       price\n",
       "count    3.000000    3.000000\n",
       "mean   116.666667  176.666667\n",
       "std     14.433757  136.503968\n",
       "min    100.000000   30.000000\n",
       "25%    112.500000  115.000000\n",
       "50%    125.000000  200.000000\n",
       "75%    125.000000  250.000000\n",
       "max    125.000000  300.000000"
      ]
     },
     "execution_count": 11,
     "metadata": {},
     "output_type": "execute_result"
    }
   ],
   "source": [
    "new_df.describe()"
   ]
  },
  {
   "cell_type": "code",
   "execution_count": 12,
   "metadata": {
    "scrolled": true
   },
   "outputs": [
    {
     "name": "stdout",
     "output_type": "stream",
     "text": [
      "<class 'pandas.core.frame.DataFrame'>\n",
      "Int64Index: 3 entries, 1 to 3\n",
      "Data columns (total 3 columns):\n",
      "name     3 non-null object\n",
      "cc       3 non-null int64\n",
      "price    3 non-null int64\n",
      "dtypes: int64(2), object(1)\n",
      "memory usage: 96.0+ bytes\n"
     ]
    }
   ],
   "source": [
    "new_df.info()"
   ]
  },
  {
   "cell_type": "code",
   "execution_count": 13,
   "metadata": {},
   "outputs": [
    {
     "data": {
      "text/plain": [
       "name     object\n",
       "cc        int64\n",
       "price     int64\n",
       "dtype: object"
      ]
     },
     "execution_count": 13,
     "metadata": {},
     "output_type": "execute_result"
    }
   ],
   "source": [
    "new_df.dtypes"
   ]
  },
  {
   "cell_type": "code",
   "execution_count": 14,
   "metadata": {},
   "outputs": [
    {
     "data": {
      "text/plain": [
       "(3, 3)"
      ]
     },
     "execution_count": 14,
     "metadata": {},
     "output_type": "execute_result"
    }
   ],
   "source": [
    "new_df.shape"
   ]
  },
  {
   "cell_type": "code",
   "execution_count": 15,
   "metadata": {},
   "outputs": [
    {
     "data": {
      "text/html": [
       "<div>\n",
       "<style scoped>\n",
       "    .dataframe tbody tr th:only-of-type {\n",
       "        vertical-align: middle;\n",
       "    }\n",
       "\n",
       "    .dataframe tbody tr th {\n",
       "        vertical-align: top;\n",
       "    }\n",
       "\n",
       "    .dataframe thead th {\n",
       "        text-align: right;\n",
       "    }\n",
       "</style>\n",
       "<table border=\"1\" class=\"dataframe\">\n",
       "  <thead>\n",
       "    <tr style=\"text-align: right;\">\n",
       "      <th></th>\n",
       "      <th>NAME</th>\n",
       "      <th>CC</th>\n",
       "      <th>PRICE</th>\n",
       "    </tr>\n",
       "  </thead>\n",
       "  <tbody>\n",
       "    <tr>\n",
       "      <th>1</th>\n",
       "      <td>cityace</td>\n",
       "      <td>100</td>\n",
       "      <td>30</td>\n",
       "    </tr>\n",
       "    <tr>\n",
       "      <th>2</th>\n",
       "      <td>z125</td>\n",
       "      <td>125</td>\n",
       "      <td>300</td>\n",
       "    </tr>\n",
       "    <tr>\n",
       "      <th>3</th>\n",
       "      <td>cbr125</td>\n",
       "      <td>125</td>\n",
       "      <td>200</td>\n",
       "    </tr>\n",
       "  </tbody>\n",
       "</table>\n",
       "</div>"
      ],
      "text/plain": [
       "      NAME   CC  PRICE\n",
       "1  cityace  100     30\n",
       "2     z125  125    300\n",
       "3   cbr125  125    200"
      ]
     },
     "execution_count": 15,
     "metadata": {},
     "output_type": "execute_result"
    }
   ],
   "source": [
    "#컬럼명 바꾸기\n",
    "\n",
    "new_df.columns\n",
    "new_df.columns[0]\n",
    "new_df.columns = ['NAME', 'CC', 'PRICE']\n",
    "new_df.head()"
   ]
  },
  {
   "cell_type": "markdown",
   "metadata": {},
   "source": [
    "컬럼명 바꾸는 또 다른 방법 : rename"
   ]
  },
  {
   "cell_type": "code",
   "execution_count": 16,
   "metadata": {},
   "outputs": [
    {
     "data": {
      "text/html": [
       "<div>\n",
       "<style scoped>\n",
       "    .dataframe tbody tr th:only-of-type {\n",
       "        vertical-align: middle;\n",
       "    }\n",
       "\n",
       "    .dataframe tbody tr th {\n",
       "        vertical-align: top;\n",
       "    }\n",
       "\n",
       "    .dataframe thead th {\n",
       "        text-align: right;\n",
       "    }\n",
       "</style>\n",
       "<table border=\"1\" class=\"dataframe\">\n",
       "  <thead>\n",
       "    <tr style=\"text-align: right;\">\n",
       "      <th></th>\n",
       "      <th>a</th>\n",
       "      <th>c</th>\n",
       "    </tr>\n",
       "  </thead>\n",
       "  <tbody>\n",
       "    <tr>\n",
       "      <th>0</th>\n",
       "      <td>1</td>\n",
       "      <td>4</td>\n",
       "    </tr>\n",
       "    <tr>\n",
       "      <th>1</th>\n",
       "      <td>2</td>\n",
       "      <td>5</td>\n",
       "    </tr>\n",
       "    <tr>\n",
       "      <th>2</th>\n",
       "      <td>3</td>\n",
       "      <td>6</td>\n",
       "    </tr>\n",
       "  </tbody>\n",
       "</table>\n",
       "</div>"
      ],
      "text/plain": [
       "   a  c\n",
       "0  1  4\n",
       "1  2  5\n",
       "2  3  6"
      ]
     },
     "execution_count": 16,
     "metadata": {},
     "output_type": "execute_result"
    }
   ],
   "source": [
    "df_ex = pd.DataFrame({\"A\": [1, 2, 3], \"B\": [4, 5, 6]})\n",
    "df_ex.rename(columns={\"A\": \"a\", \"B\": \"c\"})"
   ]
  },
  {
   "cell_type": "code",
   "execution_count": 17,
   "metadata": {},
   "outputs": [
    {
     "data": {
      "text/html": [
       "<div>\n",
       "<style scoped>\n",
       "    .dataframe tbody tr th:only-of-type {\n",
       "        vertical-align: middle;\n",
       "    }\n",
       "\n",
       "    .dataframe tbody tr th {\n",
       "        vertical-align: top;\n",
       "    }\n",
       "\n",
       "    .dataframe thead th {\n",
       "        text-align: right;\n",
       "    }\n",
       "</style>\n",
       "<table border=\"1\" class=\"dataframe\">\n",
       "  <thead>\n",
       "    <tr style=\"text-align: right;\">\n",
       "      <th></th>\n",
       "      <th>name</th>\n",
       "      <th>CC</th>\n",
       "      <th>PRICE</th>\n",
       "    </tr>\n",
       "  </thead>\n",
       "  <tbody>\n",
       "    <tr>\n",
       "      <th>1</th>\n",
       "      <td>cityace</td>\n",
       "      <td>100</td>\n",
       "      <td>30</td>\n",
       "    </tr>\n",
       "    <tr>\n",
       "      <th>2</th>\n",
       "      <td>z125</td>\n",
       "      <td>125</td>\n",
       "      <td>300</td>\n",
       "    </tr>\n",
       "    <tr>\n",
       "      <th>3</th>\n",
       "      <td>cbr125</td>\n",
       "      <td>125</td>\n",
       "      <td>200</td>\n",
       "    </tr>\n",
       "  </tbody>\n",
       "</table>\n",
       "</div>"
      ],
      "text/plain": [
       "      name   CC  PRICE\n",
       "1  cityace  100     30\n",
       "2     z125  125    300\n",
       "3   cbr125  125    200"
      ]
     },
     "execution_count": 17,
     "metadata": {},
     "output_type": "execute_result"
    }
   ],
   "source": [
    "new_df.columns.values[0] = 'name' #이렇게도 가능!!!\n",
    "new_df"
   ]
  },
  {
   "cell_type": "markdown",
   "metadata": {},
   "source": [
    "new_df에 새로운 열을 추가해볼까? 어떻게?"
   ]
  },
  {
   "cell_type": "code",
   "execution_count": 18,
   "metadata": {},
   "outputs": [
    {
     "data": {
      "text/html": [
       "<div>\n",
       "<style scoped>\n",
       "    .dataframe tbody tr th:only-of-type {\n",
       "        vertical-align: middle;\n",
       "    }\n",
       "\n",
       "    .dataframe tbody tr th {\n",
       "        vertical-align: top;\n",
       "    }\n",
       "\n",
       "    .dataframe thead th {\n",
       "        text-align: right;\n",
       "    }\n",
       "</style>\n",
       "<table border=\"1\" class=\"dataframe\">\n",
       "  <thead>\n",
       "    <tr style=\"text-align: right;\">\n",
       "      <th></th>\n",
       "      <th>name</th>\n",
       "      <th>CC</th>\n",
       "      <th>PRICE</th>\n",
       "      <th>rate</th>\n",
       "    </tr>\n",
       "  </thead>\n",
       "  <tbody>\n",
       "    <tr>\n",
       "      <th>1</th>\n",
       "      <td>cityace</td>\n",
       "      <td>100</td>\n",
       "      <td>30</td>\n",
       "      <td>5</td>\n",
       "    </tr>\n",
       "    <tr>\n",
       "      <th>2</th>\n",
       "      <td>z125</td>\n",
       "      <td>125</td>\n",
       "      <td>300</td>\n",
       "      <td>2</td>\n",
       "    </tr>\n",
       "    <tr>\n",
       "      <th>3</th>\n",
       "      <td>cbr125</td>\n",
       "      <td>125</td>\n",
       "      <td>200</td>\n",
       "      <td>1</td>\n",
       "    </tr>\n",
       "  </tbody>\n",
       "</table>\n",
       "</div>"
      ],
      "text/plain": [
       "      name   CC  PRICE  rate\n",
       "1  cityace  100     30     5\n",
       "2     z125  125    300     2\n",
       "3   cbr125  125    200     1"
      ]
     },
     "execution_count": 18,
     "metadata": {},
     "output_type": "execute_result"
    }
   ],
   "source": [
    "#새로운 열의 이름을 적고 리스트로 넣기. 개수 맞춰줘야 한다. \n",
    "new_df[\"rate\"] = [5, 2, 1]\n",
    "new_df"
   ]
  },
  {
   "cell_type": "code",
   "execution_count": 19,
   "metadata": {},
   "outputs": [],
   "source": [
    "#열 삭제하기\n",
    "del new_df[\"rate\"] "
   ]
  },
  {
   "cell_type": "code",
   "execution_count": 20,
   "metadata": {},
   "outputs": [],
   "source": [
    "new_df[\"rate\"] = 5 #재사용법칙 가능"
   ]
  },
  {
   "cell_type": "code",
   "execution_count": 21,
   "metadata": {},
   "outputs": [],
   "source": [
    "new_df = new_df.drop(\"rate\", axis = 1) #0은 행, 1은 열\n",
    "#help(pd.DataFrame.drop)"
   ]
  },
  {
   "cell_type": "code",
   "execution_count": 22,
   "metadata": {},
   "outputs": [
    {
     "name": "stdout",
     "output_type": "stream",
     "text": [
      "1    cityace\n",
      "2       z125\n",
      "3     cbr125\n",
      "Name: name, dtype: object\n"
     ]
    },
    {
     "data": {
      "text/html": [
       "<div>\n",
       "<style scoped>\n",
       "    .dataframe tbody tr th:only-of-type {\n",
       "        vertical-align: middle;\n",
       "    }\n",
       "\n",
       "    .dataframe tbody tr th {\n",
       "        vertical-align: top;\n",
       "    }\n",
       "\n",
       "    .dataframe thead th {\n",
       "        text-align: right;\n",
       "    }\n",
       "</style>\n",
       "<table border=\"1\" class=\"dataframe\">\n",
       "  <thead>\n",
       "    <tr style=\"text-align: right;\">\n",
       "      <th></th>\n",
       "      <th>name</th>\n",
       "    </tr>\n",
       "  </thead>\n",
       "  <tbody>\n",
       "    <tr>\n",
       "      <th>1</th>\n",
       "      <td>cityace</td>\n",
       "    </tr>\n",
       "    <tr>\n",
       "      <th>2</th>\n",
       "      <td>z125</td>\n",
       "    </tr>\n",
       "    <tr>\n",
       "      <th>3</th>\n",
       "      <td>cbr125</td>\n",
       "    </tr>\n",
       "  </tbody>\n",
       "</table>\n",
       "</div>"
      ],
      "text/plain": [
       "      name\n",
       "1  cityace\n",
       "2     z125\n",
       "3   cbr125"
      ]
     },
     "execution_count": 22,
     "metadata": {},
     "output_type": "execute_result"
    }
   ],
   "source": [
    "#열별로 뽑아보기\n",
    "print(new_df['name']) #이거보다 \n",
    "new_df[['name']] #이게 낫다. "
   ]
  },
  {
   "cell_type": "markdown",
   "metadata": {},
   "source": [
    "새로운 행 추가하기"
   ]
  },
  {
   "cell_type": "code",
   "execution_count": 23,
   "metadata": {},
   "outputs": [],
   "source": [
    "#loc를 이용하여 새로운 행을 추가할 수 있다. 리스트로 넣어주면 됨. \n",
    "new_df.loc[len(new_df)] = ['xz100', 100, 100]"
   ]
  },
  {
   "cell_type": "markdown",
   "metadata": {},
   "source": [
    "말나온 김에 iloc, loc 보자. "
   ]
  },
  {
   "cell_type": "code",
   "execution_count": 24,
   "metadata": {},
   "outputs": [
    {
     "data": {
      "text/html": [
       "<div>\n",
       "<style scoped>\n",
       "    .dataframe tbody tr th:only-of-type {\n",
       "        vertical-align: middle;\n",
       "    }\n",
       "\n",
       "    .dataframe tbody tr th {\n",
       "        vertical-align: top;\n",
       "    }\n",
       "\n",
       "    .dataframe thead th {\n",
       "        text-align: right;\n",
       "    }\n",
       "</style>\n",
       "<table border=\"1\" class=\"dataframe\">\n",
       "  <thead>\n",
       "    <tr style=\"text-align: right;\">\n",
       "      <th></th>\n",
       "      <th>name</th>\n",
       "      <th>CC</th>\n",
       "    </tr>\n",
       "  </thead>\n",
       "  <tbody>\n",
       "    <tr>\n",
       "      <th>1</th>\n",
       "      <td>cityace</td>\n",
       "      <td>100</td>\n",
       "    </tr>\n",
       "    <tr>\n",
       "      <th>2</th>\n",
       "      <td>z125</td>\n",
       "      <td>125</td>\n",
       "    </tr>\n",
       "  </tbody>\n",
       "</table>\n",
       "</div>"
      ],
      "text/plain": [
       "      name   CC\n",
       "1  cityace  100\n",
       "2     z125  125"
      ]
     },
     "execution_count": 24,
     "metadata": {},
     "output_type": "execute_result"
    }
   ],
   "source": [
    "#df.iloc[행숫자 , 열숫자]\n",
    "new_df.iloc[0,0]\n",
    "new_df.iloc[0:1,0]\n",
    "new_df.iloc[[0,1,2] ,[0,2]]\n",
    "new_df.iloc[:,:] #전체 숫자를 표시할 때는 :을 쓴다. \n",
    "\n",
    "#df.loc[ 행숫자?인덱스? , 열숫자?열이름? ]\n",
    "\n",
    "new_df.loc[:, 'PRICE']\n",
    "#new_df.loc[0, 'PRICE'] 이렇게는 외 않되..?\n",
    "new_df.loc[ 0:2 ,['name' , 'CC'] ]"
   ]
  },
  {
   "cell_type": "markdown",
   "metadata": {},
   "source": [
    "다양한 내장함수를 행, 열방향으로 적용할 수 있다. "
   ]
  },
  {
   "cell_type": "code",
   "execution_count": 25,
   "metadata": {
    "scrolled": true
   },
   "outputs": [
    {
     "data": {
      "text/plain": [
       "1    130\n",
       "2    425\n",
       "3    200\n",
       "dtype: int64"
      ]
     },
     "execution_count": 25,
     "metadata": {},
     "output_type": "execute_result"
    }
   ],
   "source": [
    "new_df.sum(axis = 0) #행방향 합계\n",
    "new_df.sum(axis = 1) #열방향 합계"
   ]
  },
  {
   "cell_type": "code",
   "execution_count": 26,
   "metadata": {},
   "outputs": [
    {
     "data": {
      "text/plain": [
       "1     65.0\n",
       "2    212.5\n",
       "3    100.0\n",
       "dtype: float64"
      ]
     },
     "execution_count": 26,
     "metadata": {},
     "output_type": "execute_result"
    }
   ],
   "source": [
    "new_df.mean(axis = 1)"
   ]
  },
  {
   "cell_type": "markdown",
   "metadata": {},
   "source": [
    "DF에서 subset하기(열 조건으로 데이터 뽑아내기)"
   ]
  },
  {
   "cell_type": "markdown",
   "metadata": {},
   "source": [
    "일단 데이터 개수를 좀 늘려보자\n"
   ]
  },
  {
   "cell_type": "code",
   "execution_count": 27,
   "metadata": {},
   "outputs": [],
   "source": [
    "new_df['nation'] = ['Korea', 'Japan', 'Japan']\n",
    "new_df['brand'] = ['Daerim', 'Honda', 'Honda']"
   ]
  },
  {
   "cell_type": "code",
   "execution_count": 28,
   "metadata": {},
   "outputs": [],
   "source": [
    "bike = {'name' : ['pcx','komat', 'vjfi' , 'griffon' , 'wolf'], \n",
    "       'CC' : [125, 600, 125, 125, 125] , \n",
    "       'PRICE' : [250, 300, 100, 180, 100], \n",
    "       'nation' : ['Japan', 'Korea', 'Korea', 'Italy', 'Taiwan'] , \n",
    "       'brand' : ['Honda', 'Hyosung', 'Daerim', 'Italjet', 'SYM'] }\n",
    "\n",
    "bike = pd.DataFrame(bike)\n",
    "new_df = new_df.append(bike)"
   ]
  },
  {
   "cell_type": "code",
   "execution_count": 29,
   "metadata": {},
   "outputs": [],
   "source": [
    "#합쳤으니 인덱스 좀 다시 해주자. \n",
    "new_df = new_df.reset_index()"
   ]
  },
  {
   "cell_type": "code",
   "execution_count": 30,
   "metadata": {},
   "outputs": [
    {
     "data": {
      "text/plain": [
       "index      int64\n",
       "name      object\n",
       "CC         int64\n",
       "PRICE      int64\n",
       "nation    object\n",
       "brand     object\n",
       "dtype: object"
      ]
     },
     "execution_count": 30,
     "metadata": {},
     "output_type": "execute_result"
    }
   ],
   "source": [
    "#인덱스도 인덱스인데 데이터 타입 확인해보자. \n",
    "new_df.dtypes\n",
    "#파이썬은 factor 같은 게 없어? R이랑 좀 느낌이 다르네"
   ]
  },
  {
   "cell_type": "markdown",
   "metadata": {},
   "source": [
    "이제 subset 해보자. \n",
    "subset해서 새로운 데이터 프레임으로 넣어줄 수 있음. "
   ]
  },
  {
   "cell_type": "code",
   "execution_count": 31,
   "metadata": {},
   "outputs": [
    {
     "data": {
      "text/html": [
       "<div>\n",
       "<style scoped>\n",
       "    .dataframe tbody tr th:only-of-type {\n",
       "        vertical-align: middle;\n",
       "    }\n",
       "\n",
       "    .dataframe tbody tr th {\n",
       "        vertical-align: top;\n",
       "    }\n",
       "\n",
       "    .dataframe thead th {\n",
       "        text-align: right;\n",
       "    }\n",
       "</style>\n",
       "<table border=\"1\" class=\"dataframe\">\n",
       "  <thead>\n",
       "    <tr style=\"text-align: right;\">\n",
       "      <th></th>\n",
       "      <th>index</th>\n",
       "      <th>name</th>\n",
       "      <th>CC</th>\n",
       "      <th>PRICE</th>\n",
       "      <th>nation</th>\n",
       "      <th>brand</th>\n",
       "    </tr>\n",
       "  </thead>\n",
       "  <tbody>\n",
       "    <tr>\n",
       "      <th>4</th>\n",
       "      <td>1</td>\n",
       "      <td>komat</td>\n",
       "      <td>600</td>\n",
       "      <td>300</td>\n",
       "      <td>Korea</td>\n",
       "      <td>Hyosung</td>\n",
       "    </tr>\n",
       "  </tbody>\n",
       "</table>\n",
       "</div>"
      ],
      "text/plain": [
       "   index   name   CC  PRICE nation    brand\n",
       "4      1  komat  600    300  Korea  Hyosung"
      ]
     },
     "execution_count": 31,
     "metadata": {},
     "output_type": "execute_result"
    }
   ],
   "source": [
    "#CC가 125 이상인 애들만 추출\n",
    "new_df[new_df.CC >= 125]\n",
    "\n",
    "#생산국가가 한국인 애들만 추출\n",
    "new_df[new_df.nation == 'Korea']\n",
    "\n",
    "#생산국가가 Korea이지만 브랜드는 Daerim 이 아닌 오토바이 추출\n",
    "new_df[(new_df.nation == 'Korea') & (new_df.brand != 'Daerim')]"
   ]
  },
  {
   "cell_type": "markdown",
   "metadata": {},
   "source": [
    "그 외 : R에서 unique처럼 쓰기 : set"
   ]
  },
  {
   "cell_type": "code",
   "execution_count": 32,
   "metadata": {},
   "outputs": [
    {
     "data": {
      "text/plain": [
       "{'Daerim', 'Honda', 'Hyosung', 'Italjet', 'SYM'}"
      ]
     },
     "execution_count": 32,
     "metadata": {},
     "output_type": "execute_result"
    }
   ],
   "source": [
    "set(new_df.brand)"
   ]
  },
  {
   "cell_type": "code",
   "execution_count": null,
   "metadata": {},
   "outputs": [],
   "source": []
  },
  {
   "cell_type": "code",
   "execution_count": null,
   "metadata": {},
   "outputs": [],
   "source": []
  },
  {
   "cell_type": "code",
   "execution_count": null,
   "metadata": {},
   "outputs": [],
   "source": []
  },
  {
   "cell_type": "markdown",
   "metadata": {},
   "source": [
    "## 데이터 엔지니어링 + 시각화 해 보기"
   ]
  },
  {
   "cell_type": "markdown",
   "metadata": {},
   "source": [
    "csv파일 읽어오기 (nan 값이 있는)"
   ]
  },
  {
   "cell_type": "code",
   "execution_count": 33,
   "metadata": {},
   "outputs": [],
   "source": [
    "air = pd.read_csv('a.csv')"
   ]
  },
  {
   "cell_type": "code",
   "execution_count": 34,
   "metadata": {},
   "outputs": [
    {
     "data": {
      "text/html": [
       "<div>\n",
       "<style scoped>\n",
       "    .dataframe tbody tr th:only-of-type {\n",
       "        vertical-align: middle;\n",
       "    }\n",
       "\n",
       "    .dataframe tbody tr th {\n",
       "        vertical-align: top;\n",
       "    }\n",
       "\n",
       "    .dataframe thead th {\n",
       "        text-align: right;\n",
       "    }\n",
       "</style>\n",
       "<table border=\"1\" class=\"dataframe\">\n",
       "  <thead>\n",
       "    <tr style=\"text-align: right;\">\n",
       "      <th></th>\n",
       "      <th>MSRDATE(측정날짜)</th>\n",
       "      <th>MSRADMCODE(측정소 행정코드)</th>\n",
       "      <th>GRADE(대기환경등급)</th>\n",
       "      <th>MAXINDEX(통합대기환경지수)</th>\n",
       "      <th>POLLUTANT(지수결정물질)</th>\n",
       "      <th>NITROGEN(이산화질소 농도)</th>\n",
       "      <th>NITROGENINDEX(이산화질소 지수)</th>\n",
       "      <th>OZONE(오존 농도)</th>\n",
       "      <th>OZONEINDEX(오존 지수)</th>\n",
       "      <th>CARBON(일산화탄소 농도)</th>\n",
       "      <th>CARBONINDEX(일산화탄소 지수)</th>\n",
       "      <th>SULFUROUS(아황산가스 농도)</th>\n",
       "      <th>SULFUROUSINDEX(아황산가스 지수)</th>\n",
       "      <th>PM10(미세먼지 농도)</th>\n",
       "      <th>PM10INDEX(미세먼지 지수)</th>\n",
       "      <th>PM24(미세먼지(24시)농도)</th>\n",
       "      <th>PM24INDEX(미세먼지(24시)지수)</th>\n",
       "      <th>MSRRGNCODE(권역코드)</th>\n",
       "      <th>MSRRGNNAME(권역명)</th>\n",
       "      <th>MSRSTENAME(측정소명)</th>\n",
       "    </tr>\n",
       "  </thead>\n",
       "  <tbody>\n",
       "    <tr>\n",
       "      <th>0</th>\n",
       "      <td>2.020000e+11</td>\n",
       "      <td>111171</td>\n",
       "      <td>좋음</td>\n",
       "      <td>47</td>\n",
       "      <td>PM-10</td>\n",
       "      <td>0.027</td>\n",
       "      <td>45</td>\n",
       "      <td>0.026</td>\n",
       "      <td>43</td>\n",
       "      <td>0.6</td>\n",
       "      <td>15.0</td>\n",
       "      <td>0.003</td>\n",
       "      <td>8</td>\n",
       "      <td>41.0</td>\n",
       "      <td>41</td>\n",
       "      <td>47</td>\n",
       "      <td>67</td>\n",
       "      <td>102</td>\n",
       "      <td>동북권</td>\n",
       "      <td>도봉구</td>\n",
       "    </tr>\n",
       "    <tr>\n",
       "      <th>1</th>\n",
       "      <td>2.020000e+11</td>\n",
       "      <td>111171</td>\n",
       "      <td>좋음</td>\n",
       "      <td>49</td>\n",
       "      <td>PM-10</td>\n",
       "      <td>0.027</td>\n",
       "      <td>45</td>\n",
       "      <td>0.019</td>\n",
       "      <td>32</td>\n",
       "      <td>0.6</td>\n",
       "      <td>15.0</td>\n",
       "      <td>0.003</td>\n",
       "      <td>8</td>\n",
       "      <td>57.0</td>\n",
       "      <td>57</td>\n",
       "      <td>49</td>\n",
       "      <td>69</td>\n",
       "      <td>102</td>\n",
       "      <td>동북권</td>\n",
       "      <td>도봉구</td>\n",
       "    </tr>\n",
       "    <tr>\n",
       "      <th>2</th>\n",
       "      <td>2.020000e+11</td>\n",
       "      <td>111171</td>\n",
       "      <td>좋음</td>\n",
       "      <td>50</td>\n",
       "      <td>PM-10</td>\n",
       "      <td>0.015</td>\n",
       "      <td>25</td>\n",
       "      <td>0.029</td>\n",
       "      <td>48</td>\n",
       "      <td>0.6</td>\n",
       "      <td>15.0</td>\n",
       "      <td>0.003</td>\n",
       "      <td>8</td>\n",
       "      <td>55.0</td>\n",
       "      <td>55</td>\n",
       "      <td>50</td>\n",
       "      <td>70</td>\n",
       "      <td>102</td>\n",
       "      <td>동북권</td>\n",
       "      <td>도봉구</td>\n",
       "    </tr>\n",
       "    <tr>\n",
       "      <th>3</th>\n",
       "      <td>2.020000e+11</td>\n",
       "      <td>111171</td>\n",
       "      <td>좋음</td>\n",
       "      <td>50</td>\n",
       "      <td>PM-10</td>\n",
       "      <td>NaN</td>\n",
       "      <td>40</td>\n",
       "      <td>0.016</td>\n",
       "      <td>27</td>\n",
       "      <td>0.7</td>\n",
       "      <td>18.0</td>\n",
       "      <td>0.003</td>\n",
       "      <td>8</td>\n",
       "      <td>46.0</td>\n",
       "      <td>46</td>\n",
       "      <td>50</td>\n",
       "      <td>70</td>\n",
       "      <td>102</td>\n",
       "      <td>동북권</td>\n",
       "      <td>도봉구</td>\n",
       "    </tr>\n",
       "    <tr>\n",
       "      <th>4</th>\n",
       "      <td>2.020000e+11</td>\n",
       "      <td>111171</td>\n",
       "      <td>좋음</td>\n",
       "      <td>50</td>\n",
       "      <td>PM-10</td>\n",
       "      <td>0.021</td>\n",
       "      <td>35</td>\n",
       "      <td>0.015</td>\n",
       "      <td>25</td>\n",
       "      <td>0.7</td>\n",
       "      <td>18.0</td>\n",
       "      <td>0.003</td>\n",
       "      <td>8</td>\n",
       "      <td>47.0</td>\n",
       "      <td>47</td>\n",
       "      <td>50</td>\n",
       "      <td>70</td>\n",
       "      <td>102</td>\n",
       "      <td>동북권</td>\n",
       "      <td>도봉구</td>\n",
       "    </tr>\n",
       "  </tbody>\n",
       "</table>\n",
       "</div>"
      ],
      "text/plain": [
       "   MSRDATE(측정날짜)  MSRADMCODE(측정소 행정코드) GRADE(대기환경등급)  MAXINDEX(통합대기환경지수)  \\\n",
       "0   2.020000e+11                111171            좋음                  47   \n",
       "1   2.020000e+11                111171            좋음                  49   \n",
       "2   2.020000e+11                111171            좋음                  50   \n",
       "3   2.020000e+11                111171            좋음                  50   \n",
       "4   2.020000e+11                111171            좋음                  50   \n",
       "\n",
       "  POLLUTANT(지수결정물질)  NITROGEN(이산화질소 농도)  NITROGENINDEX(이산화질소 지수)  \\\n",
       "0             PM-10               0.027                       45   \n",
       "1             PM-10               0.027                       45   \n",
       "2             PM-10               0.015                       25   \n",
       "3             PM-10                 NaN                       40   \n",
       "4             PM-10               0.021                       35   \n",
       "\n",
       "   OZONE(오존 농도)  OZONEINDEX(오존 지수)  CARBON(일산화탄소 농도)  CARBONINDEX(일산화탄소 지수)  \\\n",
       "0         0.026                 43               0.6                   15.0   \n",
       "1         0.019                 32               0.6                   15.0   \n",
       "2         0.029                 48               0.6                   15.0   \n",
       "3         0.016                 27               0.7                   18.0   \n",
       "4         0.015                 25               0.7                   18.0   \n",
       "\n",
       "   SULFUROUS(아황산가스 농도)  SULFUROUSINDEX(아황산가스 지수)  PM10(미세먼지 농도)  \\\n",
       "0                0.003                         8           41.0   \n",
       "1                0.003                         8           57.0   \n",
       "2                0.003                         8           55.0   \n",
       "3                0.003                         8           46.0   \n",
       "4                0.003                         8           47.0   \n",
       "\n",
       "   PM10INDEX(미세먼지 지수)  PM24(미세먼지(24시)농도)  PM24INDEX(미세먼지(24시)지수)  \\\n",
       "0                  41                 47                      67   \n",
       "1                  57                 49                      69   \n",
       "2                  55                 50                      70   \n",
       "3                  46                 50                      70   \n",
       "4                  47                 50                      70   \n",
       "\n",
       "   MSRRGNCODE(권역코드) MSRRGNNAME(권역명) MSRSTENAME(측정소명)  \n",
       "0               102             동북권              도봉구  \n",
       "1               102             동북권              도봉구  \n",
       "2               102             동북권              도봉구  \n",
       "3               102             동북권              도봉구  \n",
       "4               102             동북권              도봉구  "
      ]
     },
     "execution_count": 34,
     "metadata": {},
     "output_type": "execute_result"
    }
   ],
   "source": [
    "air.head(5)"
   ]
  },
  {
   "cell_type": "code",
   "execution_count": 35,
   "metadata": {
    "scrolled": true
   },
   "outputs": [
    {
     "data": {
      "text/plain": [
       "Index(['MSRDATE(측정날짜)', 'MSRADMCODE(측정소 행정코드)', 'GRADE(대기환경등급)',\n",
       "       'MAXINDEX(통합대기환경지수)', 'POLLUTANT(지수결정물질)', 'NITROGEN(이산화질소 농도)',\n",
       "       'NITROGENINDEX(이산화질소 지수)', 'OZONE(오존 농도)', 'OZONEINDEX(오존 지수)',\n",
       "       'CARBON(일산화탄소 농도)', 'CARBONINDEX(일산화탄소 지수)', 'SULFUROUS(아황산가스 농도)',\n",
       "       'SULFUROUSINDEX(아황산가스 지수)', 'PM10(미세먼지 농도)', 'PM10INDEX(미세먼지 지수)',\n",
       "       'PM24(미세먼지(24시)농도)', 'PM24INDEX(미세먼지(24시)지수)', 'MSRRGNCODE(권역코드)',\n",
       "       'MSRRGNNAME(권역명)', 'MSRSTENAME(측정소명)'],\n",
       "      dtype='object')"
      ]
     },
     "execution_count": 35,
     "metadata": {},
     "output_type": "execute_result"
    }
   ],
   "source": [
    "air.columns"
   ]
  },
  {
   "cell_type": "code",
   "execution_count": 36,
   "metadata": {},
   "outputs": [],
   "source": [
    "#이 데이터 MSRDATE 열이 이상하다. 새로 임의의 날짜 부여해줘야겠다. \n",
    "#https://datascienceschool.net/view-notebook/8959673a97214e8fafdb159f254185e9/\n",
    "\n",
    "a = pd.date_range(start = \"2019-01-01\", periods = len(air), freq = 'H')\n",
    "#periods 옵션으로 며칠짜리를 만들것인지 해 줄 수 있다. \n",
    "#freq 옵션으로 간격 설정 가능\n",
    "\n",
    "air[['MSRDATE(측정날짜)']] = a\n"
   ]
  },
  {
   "cell_type": "code",
   "execution_count": 37,
   "metadata": {},
   "outputs": [
    {
     "data": {
      "text/html": [
       "<div>\n",
       "<style scoped>\n",
       "    .dataframe tbody tr th:only-of-type {\n",
       "        vertical-align: middle;\n",
       "    }\n",
       "\n",
       "    .dataframe tbody tr th {\n",
       "        vertical-align: top;\n",
       "    }\n",
       "\n",
       "    .dataframe thead th {\n",
       "        text-align: right;\n",
       "    }\n",
       "</style>\n",
       "<table border=\"1\" class=\"dataframe\">\n",
       "  <thead>\n",
       "    <tr style=\"text-align: right;\">\n",
       "      <th></th>\n",
       "      <th>MSRDATE(측정날짜)</th>\n",
       "      <th>MSRADMCODE(측정소 행정코드)</th>\n",
       "      <th>GRADE(대기환경등급)</th>\n",
       "      <th>MAXINDEX(통합대기환경지수)</th>\n",
       "      <th>POLLUTANT(지수결정물질)</th>\n",
       "      <th>NITROGEN(이산화질소 농도)</th>\n",
       "      <th>NITROGENINDEX(이산화질소 지수)</th>\n",
       "      <th>OZONE(오존 농도)</th>\n",
       "      <th>OZONEINDEX(오존 지수)</th>\n",
       "      <th>CARBON(일산화탄소 농도)</th>\n",
       "      <th>CARBONINDEX(일산화탄소 지수)</th>\n",
       "      <th>SULFUROUS(아황산가스 농도)</th>\n",
       "      <th>SULFUROUSINDEX(아황산가스 지수)</th>\n",
       "      <th>PM10(미세먼지 농도)</th>\n",
       "      <th>PM10INDEX(미세먼지 지수)</th>\n",
       "      <th>PM24(미세먼지(24시)농도)</th>\n",
       "      <th>PM24INDEX(미세먼지(24시)지수)</th>\n",
       "      <th>MSRRGNCODE(권역코드)</th>\n",
       "      <th>MSRRGNNAME(권역명)</th>\n",
       "      <th>MSRSTENAME(측정소명)</th>\n",
       "    </tr>\n",
       "  </thead>\n",
       "  <tbody>\n",
       "    <tr>\n",
       "      <th>0</th>\n",
       "      <td>2019-01-01 00:00:00</td>\n",
       "      <td>111171</td>\n",
       "      <td>좋음</td>\n",
       "      <td>47</td>\n",
       "      <td>PM-10</td>\n",
       "      <td>0.027</td>\n",
       "      <td>45</td>\n",
       "      <td>0.026</td>\n",
       "      <td>43</td>\n",
       "      <td>0.6</td>\n",
       "      <td>15.0</td>\n",
       "      <td>0.003</td>\n",
       "      <td>8</td>\n",
       "      <td>41.0</td>\n",
       "      <td>41</td>\n",
       "      <td>47</td>\n",
       "      <td>67</td>\n",
       "      <td>102</td>\n",
       "      <td>동북권</td>\n",
       "      <td>도봉구</td>\n",
       "    </tr>\n",
       "    <tr>\n",
       "      <th>1</th>\n",
       "      <td>2019-01-01 01:00:00</td>\n",
       "      <td>111171</td>\n",
       "      <td>좋음</td>\n",
       "      <td>49</td>\n",
       "      <td>PM-10</td>\n",
       "      <td>0.027</td>\n",
       "      <td>45</td>\n",
       "      <td>0.019</td>\n",
       "      <td>32</td>\n",
       "      <td>0.6</td>\n",
       "      <td>15.0</td>\n",
       "      <td>0.003</td>\n",
       "      <td>8</td>\n",
       "      <td>57.0</td>\n",
       "      <td>57</td>\n",
       "      <td>49</td>\n",
       "      <td>69</td>\n",
       "      <td>102</td>\n",
       "      <td>동북권</td>\n",
       "      <td>도봉구</td>\n",
       "    </tr>\n",
       "    <tr>\n",
       "      <th>2</th>\n",
       "      <td>2019-01-01 02:00:00</td>\n",
       "      <td>111171</td>\n",
       "      <td>좋음</td>\n",
       "      <td>50</td>\n",
       "      <td>PM-10</td>\n",
       "      <td>0.015</td>\n",
       "      <td>25</td>\n",
       "      <td>0.029</td>\n",
       "      <td>48</td>\n",
       "      <td>0.6</td>\n",
       "      <td>15.0</td>\n",
       "      <td>0.003</td>\n",
       "      <td>8</td>\n",
       "      <td>55.0</td>\n",
       "      <td>55</td>\n",
       "      <td>50</td>\n",
       "      <td>70</td>\n",
       "      <td>102</td>\n",
       "      <td>동북권</td>\n",
       "      <td>도봉구</td>\n",
       "    </tr>\n",
       "    <tr>\n",
       "      <th>3</th>\n",
       "      <td>2019-01-01 03:00:00</td>\n",
       "      <td>111171</td>\n",
       "      <td>좋음</td>\n",
       "      <td>50</td>\n",
       "      <td>PM-10</td>\n",
       "      <td>NaN</td>\n",
       "      <td>40</td>\n",
       "      <td>0.016</td>\n",
       "      <td>27</td>\n",
       "      <td>0.7</td>\n",
       "      <td>18.0</td>\n",
       "      <td>0.003</td>\n",
       "      <td>8</td>\n",
       "      <td>46.0</td>\n",
       "      <td>46</td>\n",
       "      <td>50</td>\n",
       "      <td>70</td>\n",
       "      <td>102</td>\n",
       "      <td>동북권</td>\n",
       "      <td>도봉구</td>\n",
       "    </tr>\n",
       "    <tr>\n",
       "      <th>4</th>\n",
       "      <td>2019-01-01 04:00:00</td>\n",
       "      <td>111171</td>\n",
       "      <td>좋음</td>\n",
       "      <td>50</td>\n",
       "      <td>PM-10</td>\n",
       "      <td>0.021</td>\n",
       "      <td>35</td>\n",
       "      <td>0.015</td>\n",
       "      <td>25</td>\n",
       "      <td>0.7</td>\n",
       "      <td>18.0</td>\n",
       "      <td>0.003</td>\n",
       "      <td>8</td>\n",
       "      <td>47.0</td>\n",
       "      <td>47</td>\n",
       "      <td>50</td>\n",
       "      <td>70</td>\n",
       "      <td>102</td>\n",
       "      <td>동북권</td>\n",
       "      <td>도봉구</td>\n",
       "    </tr>\n",
       "  </tbody>\n",
       "</table>\n",
       "</div>"
      ],
      "text/plain": [
       "        MSRDATE(측정날짜)  MSRADMCODE(측정소 행정코드) GRADE(대기환경등급)  MAXINDEX(통합대기환경지수)  \\\n",
       "0 2019-01-01 00:00:00                111171            좋음                  47   \n",
       "1 2019-01-01 01:00:00                111171            좋음                  49   \n",
       "2 2019-01-01 02:00:00                111171            좋음                  50   \n",
       "3 2019-01-01 03:00:00                111171            좋음                  50   \n",
       "4 2019-01-01 04:00:00                111171            좋음                  50   \n",
       "\n",
       "  POLLUTANT(지수결정물질)  NITROGEN(이산화질소 농도)  NITROGENINDEX(이산화질소 지수)  \\\n",
       "0             PM-10               0.027                       45   \n",
       "1             PM-10               0.027                       45   \n",
       "2             PM-10               0.015                       25   \n",
       "3             PM-10                 NaN                       40   \n",
       "4             PM-10               0.021                       35   \n",
       "\n",
       "   OZONE(오존 농도)  OZONEINDEX(오존 지수)  CARBON(일산화탄소 농도)  CARBONINDEX(일산화탄소 지수)  \\\n",
       "0         0.026                 43               0.6                   15.0   \n",
       "1         0.019                 32               0.6                   15.0   \n",
       "2         0.029                 48               0.6                   15.0   \n",
       "3         0.016                 27               0.7                   18.0   \n",
       "4         0.015                 25               0.7                   18.0   \n",
       "\n",
       "   SULFUROUS(아황산가스 농도)  SULFUROUSINDEX(아황산가스 지수)  PM10(미세먼지 농도)  \\\n",
       "0                0.003                         8           41.0   \n",
       "1                0.003                         8           57.0   \n",
       "2                0.003                         8           55.0   \n",
       "3                0.003                         8           46.0   \n",
       "4                0.003                         8           47.0   \n",
       "\n",
       "   PM10INDEX(미세먼지 지수)  PM24(미세먼지(24시)농도)  PM24INDEX(미세먼지(24시)지수)  \\\n",
       "0                  41                 47                      67   \n",
       "1                  57                 49                      69   \n",
       "2                  55                 50                      70   \n",
       "3                  46                 50                      70   \n",
       "4                  47                 50                      70   \n",
       "\n",
       "   MSRRGNCODE(권역코드) MSRRGNNAME(권역명) MSRSTENAME(측정소명)  \n",
       "0               102             동북권              도봉구  \n",
       "1               102             동북권              도봉구  \n",
       "2               102             동북권              도봉구  \n",
       "3               102             동북권              도봉구  \n",
       "4               102             동북권              도봉구  "
      ]
     },
     "execution_count": 37,
     "metadata": {},
     "output_type": "execute_result"
    }
   ],
   "source": [
    "air.head()"
   ]
  },
  {
   "cell_type": "markdown",
   "metadata": {},
   "source": [
    "1. nan 값을 어떻게 처리할 것인가? <br>\n",
    "https://rfriend.tistory.com/263"
   ]
  },
  {
   "cell_type": "code",
   "execution_count": 38,
   "metadata": {},
   "outputs": [
    {
     "data": {
      "text/html": [
       "<div>\n",
       "<style scoped>\n",
       "    .dataframe tbody tr th:only-of-type {\n",
       "        vertical-align: middle;\n",
       "    }\n",
       "\n",
       "    .dataframe tbody tr th {\n",
       "        vertical-align: top;\n",
       "    }\n",
       "\n",
       "    .dataframe thead th {\n",
       "        text-align: right;\n",
       "    }\n",
       "</style>\n",
       "<table border=\"1\" class=\"dataframe\">\n",
       "  <thead>\n",
       "    <tr style=\"text-align: right;\">\n",
       "      <th></th>\n",
       "      <th>MSRDATE(측정날짜)</th>\n",
       "      <th>MSRADMCODE(측정소 행정코드)</th>\n",
       "      <th>GRADE(대기환경등급)</th>\n",
       "      <th>MAXINDEX(통합대기환경지수)</th>\n",
       "      <th>POLLUTANT(지수결정물질)</th>\n",
       "      <th>NITROGEN(이산화질소 농도)</th>\n",
       "      <th>NITROGENINDEX(이산화질소 지수)</th>\n",
       "      <th>OZONE(오존 농도)</th>\n",
       "      <th>OZONEINDEX(오존 지수)</th>\n",
       "      <th>CARBON(일산화탄소 농도)</th>\n",
       "      <th>CARBONINDEX(일산화탄소 지수)</th>\n",
       "      <th>SULFUROUS(아황산가스 농도)</th>\n",
       "      <th>SULFUROUSINDEX(아황산가스 지수)</th>\n",
       "      <th>PM10(미세먼지 농도)</th>\n",
       "      <th>PM10INDEX(미세먼지 지수)</th>\n",
       "      <th>PM24(미세먼지(24시)농도)</th>\n",
       "      <th>PM24INDEX(미세먼지(24시)지수)</th>\n",
       "      <th>MSRRGNCODE(권역코드)</th>\n",
       "      <th>MSRRGNNAME(권역명)</th>\n",
       "      <th>MSRSTENAME(측정소명)</th>\n",
       "    </tr>\n",
       "  </thead>\n",
       "  <tbody>\n",
       "    <tr>\n",
       "      <th>0</th>\n",
       "      <td>False</td>\n",
       "      <td>False</td>\n",
       "      <td>False</td>\n",
       "      <td>False</td>\n",
       "      <td>False</td>\n",
       "      <td>False</td>\n",
       "      <td>False</td>\n",
       "      <td>False</td>\n",
       "      <td>False</td>\n",
       "      <td>False</td>\n",
       "      <td>False</td>\n",
       "      <td>False</td>\n",
       "      <td>False</td>\n",
       "      <td>False</td>\n",
       "      <td>False</td>\n",
       "      <td>False</td>\n",
       "      <td>False</td>\n",
       "      <td>False</td>\n",
       "      <td>False</td>\n",
       "      <td>False</td>\n",
       "    </tr>\n",
       "    <tr>\n",
       "      <th>1</th>\n",
       "      <td>False</td>\n",
       "      <td>False</td>\n",
       "      <td>False</td>\n",
       "      <td>False</td>\n",
       "      <td>False</td>\n",
       "      <td>False</td>\n",
       "      <td>False</td>\n",
       "      <td>False</td>\n",
       "      <td>False</td>\n",
       "      <td>False</td>\n",
       "      <td>False</td>\n",
       "      <td>False</td>\n",
       "      <td>False</td>\n",
       "      <td>False</td>\n",
       "      <td>False</td>\n",
       "      <td>False</td>\n",
       "      <td>False</td>\n",
       "      <td>False</td>\n",
       "      <td>False</td>\n",
       "      <td>False</td>\n",
       "    </tr>\n",
       "    <tr>\n",
       "      <th>2</th>\n",
       "      <td>False</td>\n",
       "      <td>False</td>\n",
       "      <td>False</td>\n",
       "      <td>False</td>\n",
       "      <td>False</td>\n",
       "      <td>False</td>\n",
       "      <td>False</td>\n",
       "      <td>False</td>\n",
       "      <td>False</td>\n",
       "      <td>False</td>\n",
       "      <td>False</td>\n",
       "      <td>False</td>\n",
       "      <td>False</td>\n",
       "      <td>False</td>\n",
       "      <td>False</td>\n",
       "      <td>False</td>\n",
       "      <td>False</td>\n",
       "      <td>False</td>\n",
       "      <td>False</td>\n",
       "      <td>False</td>\n",
       "    </tr>\n",
       "    <tr>\n",
       "      <th>3</th>\n",
       "      <td>False</td>\n",
       "      <td>False</td>\n",
       "      <td>False</td>\n",
       "      <td>False</td>\n",
       "      <td>False</td>\n",
       "      <td>True</td>\n",
       "      <td>False</td>\n",
       "      <td>False</td>\n",
       "      <td>False</td>\n",
       "      <td>False</td>\n",
       "      <td>False</td>\n",
       "      <td>False</td>\n",
       "      <td>False</td>\n",
       "      <td>False</td>\n",
       "      <td>False</td>\n",
       "      <td>False</td>\n",
       "      <td>False</td>\n",
       "      <td>False</td>\n",
       "      <td>False</td>\n",
       "      <td>False</td>\n",
       "    </tr>\n",
       "    <tr>\n",
       "      <th>4</th>\n",
       "      <td>False</td>\n",
       "      <td>False</td>\n",
       "      <td>False</td>\n",
       "      <td>False</td>\n",
       "      <td>False</td>\n",
       "      <td>False</td>\n",
       "      <td>False</td>\n",
       "      <td>False</td>\n",
       "      <td>False</td>\n",
       "      <td>False</td>\n",
       "      <td>False</td>\n",
       "      <td>False</td>\n",
       "      <td>False</td>\n",
       "      <td>False</td>\n",
       "      <td>False</td>\n",
       "      <td>False</td>\n",
       "      <td>False</td>\n",
       "      <td>False</td>\n",
       "      <td>False</td>\n",
       "      <td>False</td>\n",
       "    </tr>\n",
       "    <tr>\n",
       "      <th>5</th>\n",
       "      <td>False</td>\n",
       "      <td>False</td>\n",
       "      <td>False</td>\n",
       "      <td>False</td>\n",
       "      <td>False</td>\n",
       "      <td>False</td>\n",
       "      <td>False</td>\n",
       "      <td>False</td>\n",
       "      <td>False</td>\n",
       "      <td>False</td>\n",
       "      <td>False</td>\n",
       "      <td>False</td>\n",
       "      <td>False</td>\n",
       "      <td>False</td>\n",
       "      <td>False</td>\n",
       "      <td>False</td>\n",
       "      <td>False</td>\n",
       "      <td>False</td>\n",
       "      <td>False</td>\n",
       "      <td>False</td>\n",
       "    </tr>\n",
       "    <tr>\n",
       "      <th>6</th>\n",
       "      <td>False</td>\n",
       "      <td>False</td>\n",
       "      <td>False</td>\n",
       "      <td>False</td>\n",
       "      <td>False</td>\n",
       "      <td>False</td>\n",
       "      <td>False</td>\n",
       "      <td>False</td>\n",
       "      <td>False</td>\n",
       "      <td>False</td>\n",
       "      <td>False</td>\n",
       "      <td>False</td>\n",
       "      <td>False</td>\n",
       "      <td>True</td>\n",
       "      <td>False</td>\n",
       "      <td>False</td>\n",
       "      <td>False</td>\n",
       "      <td>False</td>\n",
       "      <td>False</td>\n",
       "      <td>False</td>\n",
       "    </tr>\n",
       "    <tr>\n",
       "      <th>7</th>\n",
       "      <td>False</td>\n",
       "      <td>False</td>\n",
       "      <td>False</td>\n",
       "      <td>False</td>\n",
       "      <td>False</td>\n",
       "      <td>False</td>\n",
       "      <td>False</td>\n",
       "      <td>False</td>\n",
       "      <td>False</td>\n",
       "      <td>False</td>\n",
       "      <td>False</td>\n",
       "      <td>False</td>\n",
       "      <td>False</td>\n",
       "      <td>False</td>\n",
       "      <td>False</td>\n",
       "      <td>False</td>\n",
       "      <td>False</td>\n",
       "      <td>False</td>\n",
       "      <td>False</td>\n",
       "      <td>False</td>\n",
       "    </tr>\n",
       "    <tr>\n",
       "      <th>8</th>\n",
       "      <td>False</td>\n",
       "      <td>False</td>\n",
       "      <td>False</td>\n",
       "      <td>False</td>\n",
       "      <td>False</td>\n",
       "      <td>False</td>\n",
       "      <td>False</td>\n",
       "      <td>True</td>\n",
       "      <td>False</td>\n",
       "      <td>False</td>\n",
       "      <td>False</td>\n",
       "      <td>False</td>\n",
       "      <td>False</td>\n",
       "      <td>True</td>\n",
       "      <td>False</td>\n",
       "      <td>False</td>\n",
       "      <td>False</td>\n",
       "      <td>False</td>\n",
       "      <td>False</td>\n",
       "      <td>False</td>\n",
       "    </tr>\n",
       "    <tr>\n",
       "      <th>9</th>\n",
       "      <td>False</td>\n",
       "      <td>False</td>\n",
       "      <td>False</td>\n",
       "      <td>False</td>\n",
       "      <td>False</td>\n",
       "      <td>False</td>\n",
       "      <td>False</td>\n",
       "      <td>False</td>\n",
       "      <td>False</td>\n",
       "      <td>False</td>\n",
       "      <td>False</td>\n",
       "      <td>False</td>\n",
       "      <td>False</td>\n",
       "      <td>False</td>\n",
       "      <td>False</td>\n",
       "      <td>False</td>\n",
       "      <td>False</td>\n",
       "      <td>False</td>\n",
       "      <td>False</td>\n",
       "      <td>False</td>\n",
       "    </tr>\n",
       "    <tr>\n",
       "      <th>10</th>\n",
       "      <td>False</td>\n",
       "      <td>False</td>\n",
       "      <td>False</td>\n",
       "      <td>False</td>\n",
       "      <td>False</td>\n",
       "      <td>False</td>\n",
       "      <td>False</td>\n",
       "      <td>False</td>\n",
       "      <td>False</td>\n",
       "      <td>False</td>\n",
       "      <td>False</td>\n",
       "      <td>False</td>\n",
       "      <td>False</td>\n",
       "      <td>False</td>\n",
       "      <td>False</td>\n",
       "      <td>False</td>\n",
       "      <td>False</td>\n",
       "      <td>False</td>\n",
       "      <td>False</td>\n",
       "      <td>False</td>\n",
       "    </tr>\n",
       "    <tr>\n",
       "      <th>11</th>\n",
       "      <td>False</td>\n",
       "      <td>False</td>\n",
       "      <td>False</td>\n",
       "      <td>False</td>\n",
       "      <td>False</td>\n",
       "      <td>False</td>\n",
       "      <td>False</td>\n",
       "      <td>True</td>\n",
       "      <td>False</td>\n",
       "      <td>False</td>\n",
       "      <td>False</td>\n",
       "      <td>False</td>\n",
       "      <td>False</td>\n",
       "      <td>False</td>\n",
       "      <td>False</td>\n",
       "      <td>False</td>\n",
       "      <td>False</td>\n",
       "      <td>False</td>\n",
       "      <td>False</td>\n",
       "      <td>False</td>\n",
       "    </tr>\n",
       "    <tr>\n",
       "      <th>12</th>\n",
       "      <td>False</td>\n",
       "      <td>False</td>\n",
       "      <td>False</td>\n",
       "      <td>False</td>\n",
       "      <td>False</td>\n",
       "      <td>False</td>\n",
       "      <td>False</td>\n",
       "      <td>False</td>\n",
       "      <td>False</td>\n",
       "      <td>False</td>\n",
       "      <td>True</td>\n",
       "      <td>False</td>\n",
       "      <td>False</td>\n",
       "      <td>False</td>\n",
       "      <td>False</td>\n",
       "      <td>False</td>\n",
       "      <td>False</td>\n",
       "      <td>False</td>\n",
       "      <td>False</td>\n",
       "      <td>False</td>\n",
       "    </tr>\n",
       "    <tr>\n",
       "      <th>13</th>\n",
       "      <td>False</td>\n",
       "      <td>False</td>\n",
       "      <td>False</td>\n",
       "      <td>False</td>\n",
       "      <td>False</td>\n",
       "      <td>False</td>\n",
       "      <td>False</td>\n",
       "      <td>False</td>\n",
       "      <td>False</td>\n",
       "      <td>False</td>\n",
       "      <td>False</td>\n",
       "      <td>False</td>\n",
       "      <td>False</td>\n",
       "      <td>False</td>\n",
       "      <td>False</td>\n",
       "      <td>False</td>\n",
       "      <td>False</td>\n",
       "      <td>False</td>\n",
       "      <td>False</td>\n",
       "      <td>False</td>\n",
       "    </tr>\n",
       "    <tr>\n",
       "      <th>14</th>\n",
       "      <td>False</td>\n",
       "      <td>False</td>\n",
       "      <td>False</td>\n",
       "      <td>False</td>\n",
       "      <td>False</td>\n",
       "      <td>False</td>\n",
       "      <td>False</td>\n",
       "      <td>False</td>\n",
       "      <td>False</td>\n",
       "      <td>False</td>\n",
       "      <td>False</td>\n",
       "      <td>False</td>\n",
       "      <td>False</td>\n",
       "      <td>False</td>\n",
       "      <td>False</td>\n",
       "      <td>False</td>\n",
       "      <td>False</td>\n",
       "      <td>False</td>\n",
       "      <td>False</td>\n",
       "      <td>False</td>\n",
       "    </tr>\n",
       "    <tr>\n",
       "      <th>15</th>\n",
       "      <td>False</td>\n",
       "      <td>False</td>\n",
       "      <td>False</td>\n",
       "      <td>False</td>\n",
       "      <td>False</td>\n",
       "      <td>False</td>\n",
       "      <td>False</td>\n",
       "      <td>False</td>\n",
       "      <td>False</td>\n",
       "      <td>False</td>\n",
       "      <td>False</td>\n",
       "      <td>False</td>\n",
       "      <td>False</td>\n",
       "      <td>False</td>\n",
       "      <td>False</td>\n",
       "      <td>False</td>\n",
       "      <td>False</td>\n",
       "      <td>False</td>\n",
       "      <td>False</td>\n",
       "      <td>False</td>\n",
       "    </tr>\n",
       "    <tr>\n",
       "      <th>16</th>\n",
       "      <td>False</td>\n",
       "      <td>False</td>\n",
       "      <td>False</td>\n",
       "      <td>False</td>\n",
       "      <td>False</td>\n",
       "      <td>True</td>\n",
       "      <td>False</td>\n",
       "      <td>False</td>\n",
       "      <td>False</td>\n",
       "      <td>False</td>\n",
       "      <td>False</td>\n",
       "      <td>False</td>\n",
       "      <td>False</td>\n",
       "      <td>False</td>\n",
       "      <td>False</td>\n",
       "      <td>False</td>\n",
       "      <td>False</td>\n",
       "      <td>False</td>\n",
       "      <td>False</td>\n",
       "      <td>False</td>\n",
       "    </tr>\n",
       "    <tr>\n",
       "      <th>17</th>\n",
       "      <td>False</td>\n",
       "      <td>False</td>\n",
       "      <td>False</td>\n",
       "      <td>False</td>\n",
       "      <td>False</td>\n",
       "      <td>False</td>\n",
       "      <td>False</td>\n",
       "      <td>False</td>\n",
       "      <td>False</td>\n",
       "      <td>False</td>\n",
       "      <td>False</td>\n",
       "      <td>False</td>\n",
       "      <td>False</td>\n",
       "      <td>True</td>\n",
       "      <td>False</td>\n",
       "      <td>False</td>\n",
       "      <td>False</td>\n",
       "      <td>False</td>\n",
       "      <td>False</td>\n",
       "      <td>False</td>\n",
       "    </tr>\n",
       "    <tr>\n",
       "      <th>18</th>\n",
       "      <td>False</td>\n",
       "      <td>False</td>\n",
       "      <td>False</td>\n",
       "      <td>False</td>\n",
       "      <td>False</td>\n",
       "      <td>False</td>\n",
       "      <td>False</td>\n",
       "      <td>False</td>\n",
       "      <td>False</td>\n",
       "      <td>False</td>\n",
       "      <td>True</td>\n",
       "      <td>False</td>\n",
       "      <td>False</td>\n",
       "      <td>False</td>\n",
       "      <td>False</td>\n",
       "      <td>False</td>\n",
       "      <td>False</td>\n",
       "      <td>False</td>\n",
       "      <td>False</td>\n",
       "      <td>False</td>\n",
       "    </tr>\n",
       "    <tr>\n",
       "      <th>19</th>\n",
       "      <td>False</td>\n",
       "      <td>False</td>\n",
       "      <td>False</td>\n",
       "      <td>False</td>\n",
       "      <td>False</td>\n",
       "      <td>True</td>\n",
       "      <td>False</td>\n",
       "      <td>False</td>\n",
       "      <td>False</td>\n",
       "      <td>False</td>\n",
       "      <td>False</td>\n",
       "      <td>False</td>\n",
       "      <td>False</td>\n",
       "      <td>False</td>\n",
       "      <td>False</td>\n",
       "      <td>False</td>\n",
       "      <td>False</td>\n",
       "      <td>False</td>\n",
       "      <td>False</td>\n",
       "      <td>False</td>\n",
       "    </tr>\n",
       "    <tr>\n",
       "      <th>20</th>\n",
       "      <td>False</td>\n",
       "      <td>False</td>\n",
       "      <td>False</td>\n",
       "      <td>False</td>\n",
       "      <td>False</td>\n",
       "      <td>False</td>\n",
       "      <td>False</td>\n",
       "      <td>False</td>\n",
       "      <td>False</td>\n",
       "      <td>False</td>\n",
       "      <td>False</td>\n",
       "      <td>False</td>\n",
       "      <td>False</td>\n",
       "      <td>False</td>\n",
       "      <td>False</td>\n",
       "      <td>False</td>\n",
       "      <td>False</td>\n",
       "      <td>False</td>\n",
       "      <td>False</td>\n",
       "      <td>False</td>\n",
       "    </tr>\n",
       "    <tr>\n",
       "      <th>21</th>\n",
       "      <td>False</td>\n",
       "      <td>False</td>\n",
       "      <td>False</td>\n",
       "      <td>False</td>\n",
       "      <td>False</td>\n",
       "      <td>False</td>\n",
       "      <td>False</td>\n",
       "      <td>False</td>\n",
       "      <td>False</td>\n",
       "      <td>False</td>\n",
       "      <td>False</td>\n",
       "      <td>False</td>\n",
       "      <td>False</td>\n",
       "      <td>False</td>\n",
       "      <td>False</td>\n",
       "      <td>False</td>\n",
       "      <td>False</td>\n",
       "      <td>False</td>\n",
       "      <td>False</td>\n",
       "      <td>False</td>\n",
       "    </tr>\n",
       "    <tr>\n",
       "      <th>22</th>\n",
       "      <td>False</td>\n",
       "      <td>False</td>\n",
       "      <td>False</td>\n",
       "      <td>False</td>\n",
       "      <td>False</td>\n",
       "      <td>False</td>\n",
       "      <td>False</td>\n",
       "      <td>False</td>\n",
       "      <td>False</td>\n",
       "      <td>False</td>\n",
       "      <td>False</td>\n",
       "      <td>False</td>\n",
       "      <td>False</td>\n",
       "      <td>False</td>\n",
       "      <td>False</td>\n",
       "      <td>False</td>\n",
       "      <td>False</td>\n",
       "      <td>False</td>\n",
       "      <td>False</td>\n",
       "      <td>False</td>\n",
       "    </tr>\n",
       "    <tr>\n",
       "      <th>23</th>\n",
       "      <td>False</td>\n",
       "      <td>False</td>\n",
       "      <td>False</td>\n",
       "      <td>False</td>\n",
       "      <td>False</td>\n",
       "      <td>False</td>\n",
       "      <td>False</td>\n",
       "      <td>False</td>\n",
       "      <td>False</td>\n",
       "      <td>False</td>\n",
       "      <td>False</td>\n",
       "      <td>False</td>\n",
       "      <td>False</td>\n",
       "      <td>False</td>\n",
       "      <td>False</td>\n",
       "      <td>False</td>\n",
       "      <td>False</td>\n",
       "      <td>False</td>\n",
       "      <td>False</td>\n",
       "      <td>False</td>\n",
       "    </tr>\n",
       "  </tbody>\n",
       "</table>\n",
       "</div>"
      ],
      "text/plain": [
       "    MSRDATE(측정날짜)  MSRADMCODE(측정소 행정코드)  GRADE(대기환경등급)  MAXINDEX(통합대기환경지수)  \\\n",
       "0           False                 False          False               False   \n",
       "1           False                 False          False               False   \n",
       "2           False                 False          False               False   \n",
       "3           False                 False          False               False   \n",
       "4           False                 False          False               False   \n",
       "5           False                 False          False               False   \n",
       "6           False                 False          False               False   \n",
       "7           False                 False          False               False   \n",
       "8           False                 False          False               False   \n",
       "9           False                 False          False               False   \n",
       "10          False                 False          False               False   \n",
       "11          False                 False          False               False   \n",
       "12          False                 False          False               False   \n",
       "13          False                 False          False               False   \n",
       "14          False                 False          False               False   \n",
       "15          False                 False          False               False   \n",
       "16          False                 False          False               False   \n",
       "17          False                 False          False               False   \n",
       "18          False                 False          False               False   \n",
       "19          False                 False          False               False   \n",
       "20          False                 False          False               False   \n",
       "21          False                 False          False               False   \n",
       "22          False                 False          False               False   \n",
       "23          False                 False          False               False   \n",
       "\n",
       "    POLLUTANT(지수결정물질)  NITROGEN(이산화질소 농도)  NITROGENINDEX(이산화질소 지수)  \\\n",
       "0               False               False                    False   \n",
       "1               False               False                    False   \n",
       "2               False               False                    False   \n",
       "3               False                True                    False   \n",
       "4               False               False                    False   \n",
       "5               False               False                    False   \n",
       "6               False               False                    False   \n",
       "7               False               False                    False   \n",
       "8               False               False                    False   \n",
       "9               False               False                    False   \n",
       "10              False               False                    False   \n",
       "11              False               False                    False   \n",
       "12              False               False                    False   \n",
       "13              False               False                    False   \n",
       "14              False               False                    False   \n",
       "15              False               False                    False   \n",
       "16              False                True                    False   \n",
       "17              False               False                    False   \n",
       "18              False               False                    False   \n",
       "19              False                True                    False   \n",
       "20              False               False                    False   \n",
       "21              False               False                    False   \n",
       "22              False               False                    False   \n",
       "23              False               False                    False   \n",
       "\n",
       "    OZONE(오존 농도)  OZONEINDEX(오존 지수)  CARBON(일산화탄소 농도)  CARBONINDEX(일산화탄소 지수)  \\\n",
       "0          False              False             False                  False   \n",
       "1          False              False             False                  False   \n",
       "2          False              False             False                  False   \n",
       "3          False              False             False                  False   \n",
       "4          False              False             False                  False   \n",
       "5          False              False             False                  False   \n",
       "6          False              False             False                  False   \n",
       "7          False              False             False                  False   \n",
       "8           True              False             False                  False   \n",
       "9          False              False             False                  False   \n",
       "10         False              False             False                  False   \n",
       "11          True              False             False                  False   \n",
       "12         False              False             False                   True   \n",
       "13         False              False             False                  False   \n",
       "14         False              False             False                  False   \n",
       "15         False              False             False                  False   \n",
       "16         False              False             False                  False   \n",
       "17         False              False             False                  False   \n",
       "18         False              False             False                   True   \n",
       "19         False              False             False                  False   \n",
       "20         False              False             False                  False   \n",
       "21         False              False             False                  False   \n",
       "22         False              False             False                  False   \n",
       "23         False              False             False                  False   \n",
       "\n",
       "    SULFUROUS(아황산가스 농도)  SULFUROUSINDEX(아황산가스 지수)  PM10(미세먼지 농도)  \\\n",
       "0                 False                     False          False   \n",
       "1                 False                     False          False   \n",
       "2                 False                     False          False   \n",
       "3                 False                     False          False   \n",
       "4                 False                     False          False   \n",
       "5                 False                     False          False   \n",
       "6                 False                     False           True   \n",
       "7                 False                     False          False   \n",
       "8                 False                     False           True   \n",
       "9                 False                     False          False   \n",
       "10                False                     False          False   \n",
       "11                False                     False          False   \n",
       "12                False                     False          False   \n",
       "13                False                     False          False   \n",
       "14                False                     False          False   \n",
       "15                False                     False          False   \n",
       "16                False                     False          False   \n",
       "17                False                     False           True   \n",
       "18                False                     False          False   \n",
       "19                False                     False          False   \n",
       "20                False                     False          False   \n",
       "21                False                     False          False   \n",
       "22                False                     False          False   \n",
       "23                False                     False          False   \n",
       "\n",
       "    PM10INDEX(미세먼지 지수)  PM24(미세먼지(24시)농도)  PM24INDEX(미세먼지(24시)지수)  \\\n",
       "0                False              False                   False   \n",
       "1                False              False                   False   \n",
       "2                False              False                   False   \n",
       "3                False              False                   False   \n",
       "4                False              False                   False   \n",
       "5                False              False                   False   \n",
       "6                False              False                   False   \n",
       "7                False              False                   False   \n",
       "8                False              False                   False   \n",
       "9                False              False                   False   \n",
       "10               False              False                   False   \n",
       "11               False              False                   False   \n",
       "12               False              False                   False   \n",
       "13               False              False                   False   \n",
       "14               False              False                   False   \n",
       "15               False              False                   False   \n",
       "16               False              False                   False   \n",
       "17               False              False                   False   \n",
       "18               False              False                   False   \n",
       "19               False              False                   False   \n",
       "20               False              False                   False   \n",
       "21               False              False                   False   \n",
       "22               False              False                   False   \n",
       "23               False              False                   False   \n",
       "\n",
       "    MSRRGNCODE(권역코드)  MSRRGNNAME(권역명)  MSRSTENAME(측정소명)  \n",
       "0              False            False             False  \n",
       "1              False            False             False  \n",
       "2              False            False             False  \n",
       "3              False            False             False  \n",
       "4              False            False             False  \n",
       "5              False            False             False  \n",
       "6              False            False             False  \n",
       "7              False            False             False  \n",
       "8              False            False             False  \n",
       "9              False            False             False  \n",
       "10             False            False             False  \n",
       "11             False            False             False  \n",
       "12             False            False             False  \n",
       "13             False            False             False  \n",
       "14             False            False             False  \n",
       "15             False            False             False  \n",
       "16             False            False             False  \n",
       "17             False            False             False  \n",
       "18             False            False             False  \n",
       "19             False            False             False  \n",
       "20             False            False             False  \n",
       "21             False            False             False  \n",
       "22             False            False             False  \n",
       "23             False            False             False  "
      ]
     },
     "execution_count": 38,
     "metadata": {},
     "output_type": "execute_result"
    }
   ],
   "source": [
    "#일단 nan 값이 얼마나, 어디에 있는지 알고 싶다. \n",
    "\n",
    "pd.notnull(air) #이렇게 하면 null값이 아닌 걸 True로 반환\n",
    "pd.isnull(air)"
   ]
  },
  {
   "cell_type": "code",
   "execution_count": 39,
   "metadata": {},
   "outputs": [],
   "source": [
    "#1) 특정 값으로 채울 수 있다. 나는 결측치를 nan이 아닌 999로 하겠다 하면\n",
    "air_1 = air.fillna(999)\n",
    "\n",
    "#2) 혹은 그 열의 평균값으로 채우겠다 하면\n",
    "air.mean() #nan값 있어도 대충 평균 계산 해준다. \n",
    "air_2 = air.fillna(air.mean())\n",
    "\n",
    "air_2_1 = air.where(pd.notnull(air), air.mean(), axis = 'columns')\n",
    "\n",
    "#3) 혹은 forward, backward 방향으로 채우겠다 하면\n",
    "air_3 = air.fillna(method = 'ffill')\n",
    "air_4 = air.fillna(method = 'bfill')\n",
    "#limit = 숫자 옵션을 추가하여 앞뒤방향으로 결측값 채우는 횟수를 제한할 수도 있다. \n"
   ]
  },
  {
   "cell_type": "code",
   "execution_count": 40,
   "metadata": {},
   "outputs": [],
   "source": [
    "#4) 혹은 그냥 nan값이 있는 열을 통째로 날릴 수도 있다. \n",
    "air_4 = air.dropna(axis = 0) #axis = 1이면 결측값 있는 열 전체 삭제\n",
    "#dropna(how = any, all) 등의 옵션도 있다. any면 nan이 하나만 있어도 삭제, all이면 모두 nan이어야 삭제\n"
   ]
  },
  {
   "cell_type": "code",
   "execution_count": 41,
   "metadata": {},
   "outputs": [
    {
     "name": "stdout",
     "output_type": "stream",
     "text": [
      "(24, 20)\n",
      "(15, 20)\n"
     ]
    }
   ],
   "source": [
    "print(air.shape)\n",
    "print(air_4.shape) #줄어들었다!\n"
   ]
  },
  {
   "cell_type": "markdown",
   "metadata": {},
   "source": [
    "2. nan값 처리 후 EDA"
   ]
  },
  {
   "cell_type": "code",
   "execution_count": 42,
   "metadata": {},
   "outputs": [],
   "source": [
    "import matplotlib as mpl\n",
    "import matplotlib.pyplot as plt\n",
    "%matplotlib inline\n",
    "#https://datascienceschool.net/view-notebook/d0b1637803754bb083b5722c9f2209d0/"
   ]
  },
  {
   "cell_type": "markdown",
   "metadata": {},
   "source": [
    "2 - 1) 각 열 별 describe"
   ]
  },
  {
   "cell_type": "code",
   "execution_count": 43,
   "metadata": {},
   "outputs": [
    {
     "data": {
      "text/html": [
       "<div>\n",
       "<style scoped>\n",
       "    .dataframe tbody tr th:only-of-type {\n",
       "        vertical-align: middle;\n",
       "    }\n",
       "\n",
       "    .dataframe tbody tr th {\n",
       "        vertical-align: top;\n",
       "    }\n",
       "\n",
       "    .dataframe thead th {\n",
       "        text-align: right;\n",
       "    }\n",
       "</style>\n",
       "<table border=\"1\" class=\"dataframe\">\n",
       "  <thead>\n",
       "    <tr style=\"text-align: right;\">\n",
       "      <th></th>\n",
       "      <th>MSRDATE(측정날짜)</th>\n",
       "      <th>MSRADMCODE(측정소 행정코드)</th>\n",
       "      <th>GRADE(대기환경등급)</th>\n",
       "      <th>MAXINDEX(통합대기환경지수)</th>\n",
       "      <th>POLLUTANT(지수결정물질)</th>\n",
       "      <th>NITROGEN(이산화질소 농도)</th>\n",
       "      <th>NITROGENINDEX(이산화질소 지수)</th>\n",
       "      <th>OZONE(오존 농도)</th>\n",
       "      <th>OZONEINDEX(오존 지수)</th>\n",
       "      <th>CARBON(일산화탄소 농도)</th>\n",
       "      <th>CARBONINDEX(일산화탄소 지수)</th>\n",
       "      <th>SULFUROUS(아황산가스 농도)</th>\n",
       "      <th>SULFUROUSINDEX(아황산가스 지수)</th>\n",
       "      <th>PM10(미세먼지 농도)</th>\n",
       "      <th>PM10INDEX(미세먼지 지수)</th>\n",
       "      <th>PM24(미세먼지(24시)농도)</th>\n",
       "      <th>PM24INDEX(미세먼지(24시)지수)</th>\n",
       "      <th>MSRRGNCODE(권역코드)</th>\n",
       "      <th>MSRRGNNAME(권역명)</th>\n",
       "      <th>MSRSTENAME(측정소명)</th>\n",
       "    </tr>\n",
       "  </thead>\n",
       "  <tbody>\n",
       "    <tr>\n",
       "      <th>0</th>\n",
       "      <td>2019-01-01 00:00:00</td>\n",
       "      <td>111171</td>\n",
       "      <td>좋음</td>\n",
       "      <td>47</td>\n",
       "      <td>PM-10</td>\n",
       "      <td>0.02700</td>\n",
       "      <td>45</td>\n",
       "      <td>0.026</td>\n",
       "      <td>43</td>\n",
       "      <td>0.6</td>\n",
       "      <td>15.0</td>\n",
       "      <td>0.003</td>\n",
       "      <td>8</td>\n",
       "      <td>41.0</td>\n",
       "      <td>41</td>\n",
       "      <td>47</td>\n",
       "      <td>67</td>\n",
       "      <td>102</td>\n",
       "      <td>동북권</td>\n",
       "      <td>도봉구</td>\n",
       "    </tr>\n",
       "    <tr>\n",
       "      <th>1</th>\n",
       "      <td>2019-01-01 01:00:00</td>\n",
       "      <td>111171</td>\n",
       "      <td>좋음</td>\n",
       "      <td>49</td>\n",
       "      <td>PM-10</td>\n",
       "      <td>0.02700</td>\n",
       "      <td>45</td>\n",
       "      <td>0.019</td>\n",
       "      <td>32</td>\n",
       "      <td>0.6</td>\n",
       "      <td>15.0</td>\n",
       "      <td>0.003</td>\n",
       "      <td>8</td>\n",
       "      <td>57.0</td>\n",
       "      <td>57</td>\n",
       "      <td>49</td>\n",
       "      <td>69</td>\n",
       "      <td>102</td>\n",
       "      <td>동북권</td>\n",
       "      <td>도봉구</td>\n",
       "    </tr>\n",
       "    <tr>\n",
       "      <th>2</th>\n",
       "      <td>2019-01-01 02:00:00</td>\n",
       "      <td>111171</td>\n",
       "      <td>좋음</td>\n",
       "      <td>50</td>\n",
       "      <td>PM-10</td>\n",
       "      <td>0.01500</td>\n",
       "      <td>25</td>\n",
       "      <td>0.029</td>\n",
       "      <td>48</td>\n",
       "      <td>0.6</td>\n",
       "      <td>15.0</td>\n",
       "      <td>0.003</td>\n",
       "      <td>8</td>\n",
       "      <td>55.0</td>\n",
       "      <td>55</td>\n",
       "      <td>50</td>\n",
       "      <td>70</td>\n",
       "      <td>102</td>\n",
       "      <td>동북권</td>\n",
       "      <td>도봉구</td>\n",
       "    </tr>\n",
       "    <tr>\n",
       "      <th>3</th>\n",
       "      <td>2019-01-01 03:00:00</td>\n",
       "      <td>111171</td>\n",
       "      <td>좋음</td>\n",
       "      <td>50</td>\n",
       "      <td>PM-10</td>\n",
       "      <td>0.02319</td>\n",
       "      <td>40</td>\n",
       "      <td>0.016</td>\n",
       "      <td>27</td>\n",
       "      <td>0.7</td>\n",
       "      <td>18.0</td>\n",
       "      <td>0.003</td>\n",
       "      <td>8</td>\n",
       "      <td>46.0</td>\n",
       "      <td>46</td>\n",
       "      <td>50</td>\n",
       "      <td>70</td>\n",
       "      <td>102</td>\n",
       "      <td>동북권</td>\n",
       "      <td>도봉구</td>\n",
       "    </tr>\n",
       "    <tr>\n",
       "      <th>4</th>\n",
       "      <td>2019-01-01 04:00:00</td>\n",
       "      <td>111171</td>\n",
       "      <td>좋음</td>\n",
       "      <td>50</td>\n",
       "      <td>PM-10</td>\n",
       "      <td>0.02100</td>\n",
       "      <td>35</td>\n",
       "      <td>0.015</td>\n",
       "      <td>25</td>\n",
       "      <td>0.7</td>\n",
       "      <td>18.0</td>\n",
       "      <td>0.003</td>\n",
       "      <td>8</td>\n",
       "      <td>47.0</td>\n",
       "      <td>47</td>\n",
       "      <td>50</td>\n",
       "      <td>70</td>\n",
       "      <td>102</td>\n",
       "      <td>동북권</td>\n",
       "      <td>도봉구</td>\n",
       "    </tr>\n",
       "  </tbody>\n",
       "</table>\n",
       "</div>"
      ],
      "text/plain": [
       "        MSRDATE(측정날짜)  MSRADMCODE(측정소 행정코드) GRADE(대기환경등급)  MAXINDEX(통합대기환경지수)  \\\n",
       "0 2019-01-01 00:00:00                111171            좋음                  47   \n",
       "1 2019-01-01 01:00:00                111171            좋음                  49   \n",
       "2 2019-01-01 02:00:00                111171            좋음                  50   \n",
       "3 2019-01-01 03:00:00                111171            좋음                  50   \n",
       "4 2019-01-01 04:00:00                111171            좋음                  50   \n",
       "\n",
       "  POLLUTANT(지수결정물질)  NITROGEN(이산화질소 농도)  NITROGENINDEX(이산화질소 지수)  \\\n",
       "0             PM-10             0.02700                       45   \n",
       "1             PM-10             0.02700                       45   \n",
       "2             PM-10             0.01500                       25   \n",
       "3             PM-10             0.02319                       40   \n",
       "4             PM-10             0.02100                       35   \n",
       "\n",
       "   OZONE(오존 농도)  OZONEINDEX(오존 지수)  CARBON(일산화탄소 농도)  CARBONINDEX(일산화탄소 지수)  \\\n",
       "0         0.026                 43               0.6                   15.0   \n",
       "1         0.019                 32               0.6                   15.0   \n",
       "2         0.029                 48               0.6                   15.0   \n",
       "3         0.016                 27               0.7                   18.0   \n",
       "4         0.015                 25               0.7                   18.0   \n",
       "\n",
       "   SULFUROUS(아황산가스 농도)  SULFUROUSINDEX(아황산가스 지수)  PM10(미세먼지 농도)  \\\n",
       "0                0.003                         8           41.0   \n",
       "1                0.003                         8           57.0   \n",
       "2                0.003                         8           55.0   \n",
       "3                0.003                         8           46.0   \n",
       "4                0.003                         8           47.0   \n",
       "\n",
       "   PM10INDEX(미세먼지 지수)  PM24(미세먼지(24시)농도)  PM24INDEX(미세먼지(24시)지수)  \\\n",
       "0                  41                 47                      67   \n",
       "1                  57                 49                      69   \n",
       "2                  55                 50                      70   \n",
       "3                  46                 50                      70   \n",
       "4                  47                 50                      70   \n",
       "\n",
       "   MSRRGNCODE(권역코드) MSRRGNNAME(권역명) MSRSTENAME(측정소명)  \n",
       "0               102             동북권              도봉구  \n",
       "1               102             동북권              도봉구  \n",
       "2               102             동북권              도봉구  \n",
       "3               102             동북권              도봉구  \n",
       "4               102             동북권              도봉구  "
      ]
     },
     "execution_count": 43,
     "metadata": {},
     "output_type": "execute_result"
    }
   ],
   "source": [
    "air_2.head(5)"
   ]
  },
  {
   "cell_type": "code",
   "execution_count": 45,
   "metadata": {},
   "outputs": [
    {
     "data": {
      "text/html": [
       "<div>\n",
       "<style scoped>\n",
       "    .dataframe tbody tr th:only-of-type {\n",
       "        vertical-align: middle;\n",
       "    }\n",
       "\n",
       "    .dataframe tbody tr th {\n",
       "        vertical-align: top;\n",
       "    }\n",
       "\n",
       "    .dataframe thead th {\n",
       "        text-align: right;\n",
       "    }\n",
       "</style>\n",
       "<table border=\"1\" class=\"dataframe\">\n",
       "  <thead>\n",
       "    <tr style=\"text-align: right;\">\n",
       "      <th></th>\n",
       "      <th>MSRADMCODE(측정소 행정코드)</th>\n",
       "      <th>MAXINDEX(통합대기환경지수)</th>\n",
       "      <th>NITROGEN(이산화질소 농도)</th>\n",
       "      <th>NITROGENINDEX(이산화질소 지수)</th>\n",
       "      <th>OZONE(오존 농도)</th>\n",
       "      <th>OZONEINDEX(오존 지수)</th>\n",
       "      <th>CARBON(일산화탄소 농도)</th>\n",
       "      <th>CARBONINDEX(일산화탄소 지수)</th>\n",
       "      <th>SULFUROUS(아황산가스 농도)</th>\n",
       "      <th>SULFUROUSINDEX(아황산가스 지수)</th>\n",
       "      <th>PM10(미세먼지 농도)</th>\n",
       "      <th>PM10INDEX(미세먼지 지수)</th>\n",
       "      <th>PM24(미세먼지(24시)농도)</th>\n",
       "      <th>PM24INDEX(미세먼지(24시)지수)</th>\n",
       "      <th>MSRRGNCODE(권역코드)</th>\n",
       "    </tr>\n",
       "  </thead>\n",
       "  <tbody>\n",
       "    <tr>\n",
       "      <th>count</th>\n",
       "      <td>24.0</td>\n",
       "      <td>24.000000</td>\n",
       "      <td>24.000000</td>\n",
       "      <td>24.000000</td>\n",
       "      <td>24.000000</td>\n",
       "      <td>24.000000</td>\n",
       "      <td>24.000000</td>\n",
       "      <td>24.000000</td>\n",
       "      <td>24.000000</td>\n",
       "      <td>24.000000</td>\n",
       "      <td>24.000000</td>\n",
       "      <td>24.000000</td>\n",
       "      <td>24.000000</td>\n",
       "      <td>24.000000</td>\n",
       "      <td>24.0</td>\n",
       "    </tr>\n",
       "    <tr>\n",
       "      <th>mean</th>\n",
       "      <td>111171.0</td>\n",
       "      <td>55.541667</td>\n",
       "      <td>0.023190</td>\n",
       "      <td>39.083333</td>\n",
       "      <td>0.025864</td>\n",
       "      <td>39.250000</td>\n",
       "      <td>0.666667</td>\n",
       "      <td>16.909091</td>\n",
       "      <td>0.003292</td>\n",
       "      <td>8.583333</td>\n",
       "      <td>48.095238</td>\n",
       "      <td>47.541667</td>\n",
       "      <td>47.541667</td>\n",
       "      <td>67.541667</td>\n",
       "      <td>102.0</td>\n",
       "    </tr>\n",
       "    <tr>\n",
       "      <th>std</th>\n",
       "      <td>0.0</td>\n",
       "      <td>6.884003</td>\n",
       "      <td>0.007527</td>\n",
       "      <td>13.554773</td>\n",
       "      <td>0.013378</td>\n",
       "      <td>18.411362</td>\n",
       "      <td>0.048154</td>\n",
       "      <td>1.411416</td>\n",
       "      <td>0.000464</td>\n",
       "      <td>0.928611</td>\n",
       "      <td>3.512769</td>\n",
       "      <td>4.699483</td>\n",
       "      <td>1.641292</td>\n",
       "      <td>1.641292</td>\n",
       "      <td>0.0</td>\n",
       "    </tr>\n",
       "    <tr>\n",
       "      <th>min</th>\n",
       "      <td>111171.0</td>\n",
       "      <td>47.000000</td>\n",
       "      <td>0.014000</td>\n",
       "      <td>23.000000</td>\n",
       "      <td>0.010000</td>\n",
       "      <td>17.000000</td>\n",
       "      <td>0.600000</td>\n",
       "      <td>15.000000</td>\n",
       "      <td>0.003000</td>\n",
       "      <td>8.000000</td>\n",
       "      <td>41.000000</td>\n",
       "      <td>33.000000</td>\n",
       "      <td>44.000000</td>\n",
       "      <td>64.000000</td>\n",
       "      <td>102.0</td>\n",
       "    </tr>\n",
       "    <tr>\n",
       "      <th>25%</th>\n",
       "      <td>111171.0</td>\n",
       "      <td>48.750000</td>\n",
       "      <td>0.017500</td>\n",
       "      <td>27.000000</td>\n",
       "      <td>0.014750</td>\n",
       "      <td>22.750000</td>\n",
       "      <td>0.600000</td>\n",
       "      <td>15.000000</td>\n",
       "      <td>0.003000</td>\n",
       "      <td>8.000000</td>\n",
       "      <td>46.000000</td>\n",
       "      <td>45.750000</td>\n",
       "      <td>47.000000</td>\n",
       "      <td>67.000000</td>\n",
       "      <td>102.0</td>\n",
       "    </tr>\n",
       "    <tr>\n",
       "      <th>50%</th>\n",
       "      <td>111171.0</td>\n",
       "      <td>57.000000</td>\n",
       "      <td>0.023000</td>\n",
       "      <td>38.000000</td>\n",
       "      <td>0.025432</td>\n",
       "      <td>37.000000</td>\n",
       "      <td>0.700000</td>\n",
       "      <td>18.000000</td>\n",
       "      <td>0.003000</td>\n",
       "      <td>8.000000</td>\n",
       "      <td>48.000000</td>\n",
       "      <td>48.000000</td>\n",
       "      <td>48.000000</td>\n",
       "      <td>68.000000</td>\n",
       "      <td>102.0</td>\n",
       "    </tr>\n",
       "    <tr>\n",
       "      <th>75%</th>\n",
       "      <td>111171.0</td>\n",
       "      <td>63.000000</td>\n",
       "      <td>0.026250</td>\n",
       "      <td>45.000000</td>\n",
       "      <td>0.041000</td>\n",
       "      <td>59.000000</td>\n",
       "      <td>0.700000</td>\n",
       "      <td>18.000000</td>\n",
       "      <td>0.004000</td>\n",
       "      <td>10.000000</td>\n",
       "      <td>49.250000</td>\n",
       "      <td>50.000000</td>\n",
       "      <td>48.250000</td>\n",
       "      <td>68.250000</td>\n",
       "      <td>102.0</td>\n",
       "    </tr>\n",
       "    <tr>\n",
       "      <th>max</th>\n",
       "      <td>111171.0</td>\n",
       "      <td>66.000000</td>\n",
       "      <td>0.040000</td>\n",
       "      <td>66.000000</td>\n",
       "      <td>0.048000</td>\n",
       "      <td>65.000000</td>\n",
       "      <td>0.700000</td>\n",
       "      <td>18.000000</td>\n",
       "      <td>0.004000</td>\n",
       "      <td>10.000000</td>\n",
       "      <td>57.000000</td>\n",
       "      <td>57.000000</td>\n",
       "      <td>50.000000</td>\n",
       "      <td>70.000000</td>\n",
       "      <td>102.0</td>\n",
       "    </tr>\n",
       "  </tbody>\n",
       "</table>\n",
       "</div>"
      ],
      "text/plain": [
       "       MSRADMCODE(측정소 행정코드)  MAXINDEX(통합대기환경지수)  NITROGEN(이산화질소 농도)  \\\n",
       "count                  24.0           24.000000           24.000000   \n",
       "mean               111171.0           55.541667            0.023190   \n",
       "std                     0.0            6.884003            0.007527   \n",
       "min                111171.0           47.000000            0.014000   \n",
       "25%                111171.0           48.750000            0.017500   \n",
       "50%                111171.0           57.000000            0.023000   \n",
       "75%                111171.0           63.000000            0.026250   \n",
       "max                111171.0           66.000000            0.040000   \n",
       "\n",
       "       NITROGENINDEX(이산화질소 지수)  OZONE(오존 농도)  OZONEINDEX(오존 지수)  \\\n",
       "count                24.000000     24.000000          24.000000   \n",
       "mean                 39.083333      0.025864          39.250000   \n",
       "std                  13.554773      0.013378          18.411362   \n",
       "min                  23.000000      0.010000          17.000000   \n",
       "25%                  27.000000      0.014750          22.750000   \n",
       "50%                  38.000000      0.025432          37.000000   \n",
       "75%                  45.000000      0.041000          59.000000   \n",
       "max                  66.000000      0.048000          65.000000   \n",
       "\n",
       "       CARBON(일산화탄소 농도)  CARBONINDEX(일산화탄소 지수)  SULFUROUS(아황산가스 농도)  \\\n",
       "count         24.000000              24.000000            24.000000   \n",
       "mean           0.666667              16.909091             0.003292   \n",
       "std            0.048154               1.411416             0.000464   \n",
       "min            0.600000              15.000000             0.003000   \n",
       "25%            0.600000              15.000000             0.003000   \n",
       "50%            0.700000              18.000000             0.003000   \n",
       "75%            0.700000              18.000000             0.004000   \n",
       "max            0.700000              18.000000             0.004000   \n",
       "\n",
       "       SULFUROUSINDEX(아황산가스 지수)  PM10(미세먼지 농도)  PM10INDEX(미세먼지 지수)  \\\n",
       "count                 24.000000      24.000000           24.000000   \n",
       "mean                   8.583333      48.095238           47.541667   \n",
       "std                    0.928611       3.512769            4.699483   \n",
       "min                    8.000000      41.000000           33.000000   \n",
       "25%                    8.000000      46.000000           45.750000   \n",
       "50%                    8.000000      48.000000           48.000000   \n",
       "75%                   10.000000      49.250000           50.000000   \n",
       "max                   10.000000      57.000000           57.000000   \n",
       "\n",
       "       PM24(미세먼지(24시)농도)  PM24INDEX(미세먼지(24시)지수)  MSRRGNCODE(권역코드)  \n",
       "count          24.000000               24.000000              24.0  \n",
       "mean           47.541667               67.541667             102.0  \n",
       "std             1.641292                1.641292               0.0  \n",
       "min            44.000000               64.000000             102.0  \n",
       "25%            47.000000               67.000000             102.0  \n",
       "50%            48.000000               68.000000             102.0  \n",
       "75%            48.250000               68.250000             102.0  \n",
       "max            50.000000               70.000000             102.0  "
      ]
     },
     "execution_count": 45,
     "metadata": {},
     "output_type": "execute_result"
    }
   ],
   "source": [
    "#기초통계자료\n",
    "air_2.describe()"
   ]
  },
  {
   "cell_type": "code",
   "execution_count": 46,
   "metadata": {},
   "outputs": [
    {
     "name": "stderr",
     "output_type": "stream",
     "text": [
      "C:\\ProgramData\\Anaconda3\\lib\\site-packages\\pandas\\plotting\\_converter.py:129: FutureWarning: Using an implicitly registered datetime converter for a matplotlib plotting method. The converter was registered by pandas on import. Future versions of pandas will require you to explicitly register matplotlib converters.\n",
      "\n",
      "To register the converters:\n",
      "\t>>> from pandas.plotting import register_matplotlib_converters\n",
      "\t>>> register_matplotlib_converters()\n",
      "  warnings.warn(msg, FutureWarning)\n"
     ]
    },
    {
     "data": {
      "image/png": "[encoded data removed]",
      "text/plain": [
       "<Figure size 720x432 with 1 Axes>"
      ]
     },
     "metadata": {
      "needs_background": "light"
     },
     "output_type": "display_data"
    }
   ],
   "source": [
    "#이산화질소 농도 변화\n",
    "plt.figure(figsize=(10,6))\n",
    "\n",
    "x = air_2[['MSRDATE(측정날짜)']]\n",
    "y = air_2[['NITROGEN(이산화질소 농도)']]\n",
    "\n",
    "plt.plot(x,y)\n",
    "plt.show()"
   ]
  },
  {
   "cell_type": "code",
   "execution_count": 47,
   "metadata": {},
   "outputs": [
    {
     "data": {
      "image/png": "[encoded data removed]",
      "text/plain": [
       "<Figure size 720x432 with 1 Axes>"
      ]
     },
     "metadata": {
      "needs_background": "light"
     },
     "output_type": "display_data"
    }
   ],
   "source": [
    "#이산화질소 지수랑 농도랑 같이 그려볼까? \n",
    "#너무 차이가 크다.\n",
    "#지수라는 게 아마 비교를 위해 만들어 진 것 같음.\n",
    "plt.figure(figsize = (10, 6))\n",
    "\n",
    "plt.title('NITROGEN')\n",
    "\n",
    "x = air_2[['MSRDATE(측정날짜)']]\n",
    "y = air_2[['NITROGEN(이산화질소 농도)']]\n",
    "\n",
    "z = air_2[['MSRDATE(측정날짜)']]\n",
    "w = air_2[['NITROGENINDEX(이산화질소 지수)']]\n",
    "\n",
    "plt.plot(x, y, z, w) #이렇게 겹쳐 그리기 가능. \n",
    "#plt.plot(z,w)\n",
    "plt.show()"
   ]
  },
  {
   "cell_type": "code",
   "execution_count": 48,
   "metadata": {},
   "outputs": [],
   "source": [
    "#plot 한글 title\n",
    "#나눔글꼴 설치\n",
    "set(sorted([f.name for f in mpl.font_manager.fontManager.ttflist]))\n",
    "#왜 설치가 안 됐지?\n",
    "\n",
    "mpl.rc('font', family = 'Batang') #아쉽지만 바탕체라도 쓰자\n",
    "\n"
   ]
  },
  {
   "cell_type": "code",
   "execution_count": 49,
   "metadata": {},
   "outputs": [
    {
     "data": {
      "image/png": "[encoded data removed]",
      "text/plain": [
       "<Figure size 792x504 with 1 Axes>"
      ]
     },
     "metadata": {
      "needs_background": "light"
     },
     "output_type": "display_data"
    }
   ],
   "source": [
    "#다 겹쳐버려 + 범례도 만들어\n",
    "\n",
    "plt. figure(figsize = (11, 7))\n",
    "\n",
    "plt.title('이산화질소, 오존, 일산화탄소, 아황산가스 지수와 미세먼지 지수')\n",
    "#\n",
    "x = air_2[['MSRDATE(측정날짜)']]\n",
    "\n",
    "nitrogen = air_2[['NITROGENINDEX(이산화질소 지수)']]\n",
    "ozone = air_2[['OZONEINDEX(오존 지수)']]\n",
    "carbon = air_2[['CARBONINDEX(일산화탄소 지수)']]\n",
    "sulfurous = air_2[['SULFUROUSINDEX(아황산가스 지수)']]\n",
    "pm10 = air_2[['PM10INDEX(미세먼지 지수)']]\n",
    "\n",
    "plt.plot(x, nitrogen)\n",
    "plt.plot(x, ozone)\n",
    "plt.plot(x, carbon)\n",
    "plt.plot(x, sulfurous)\n",
    "plt.plot(x, pm10, linestyle = '--')\n",
    "plt.legend(['nitrogen', 'ozone', 'carbon', 'sulfurous', 'pm10'],loc = 0)\n",
    "\n",
    "plt.show()"
   ]
  },
  {
   "cell_type": "code",
   "execution_count": 50,
   "metadata": {},
   "outputs": [],
   "source": [
    "#상관분석, 회귀분석, 주성분분석같은 거 할 수 있으면 좋겠다는 생각. "
   ]
  },
  {
   "cell_type": "markdown",
   "metadata": {},
   "source": [
    "그룹 만들기. \n"
   ]
  },
  {
   "cell_type": "code",
   "execution_count": 62,
   "metadata": {
    "collapsed": true
   },
   "outputs": [
    {
     "data": {
      "image/png": "[encoded data removed]",
      "text/plain": [
       "<Figure size 432x288 with 1 Axes>"
      ]
     },
     "metadata": {
      "needs_background": "light"
     },
     "output_type": "display_data"
    }
   ],
   "source": [
    "call = air_2.groupby(\"GRADE(대기환경등급)\").mean()\n",
    "#plt = call.plot(kind = 'bar')"
   ]
  },
  {
   "cell_type": "code",
   "execution_count": null,
   "metadata": {},
   "outputs": [],
   "source": []
  },
  {
   "cell_type": "code",
   "execution_count": null,
   "metadata": {},
   "outputs": [],
   "source": []
  },
  {
   "cell_type": "code",
   "execution_count": null,
   "metadata": {},
   "outputs": [],
   "source": []
  },
  {
   "cell_type": "code",
   "execution_count": null,
   "metadata": {},
   "outputs": [],
   "source": []
  },
  {
   "cell_type": "markdown",
   "metadata": {},
   "source": [
    "## 2. Numpy"
   ]
  },
  {
   "cell_type": "markdown",
   "metadata": {},
   "source": [
    "numpy는 array지 <br>\n",
    "list와 array는 뭐가 다른가요? <br>\n",
    "array는 다차원배열이 가능합니다. "
   ]
  },
  {
   "cell_type": "code",
   "execution_count": 51,
   "metadata": {},
   "outputs": [
    {
     "data": {
      "text/plain": [
       "[0, 1, 2, 3, 4]"
      ]
     },
     "execution_count": 51,
     "metadata": {},
     "output_type": "execute_result"
    }
   ],
   "source": [
    "data = list(range(5))\n",
    "data"
   ]
  },
  {
   "cell_type": "code",
   "execution_count": 52,
   "metadata": {},
   "outputs": [
    {
     "data": {
      "text/plain": [
       "array([0, 1, 2, 3, 4])"
      ]
     },
     "execution_count": 52,
     "metadata": {},
     "output_type": "execute_result"
    }
   ],
   "source": [
    "array_data = np.array(data)\n",
    "array_data"
   ]
  },
  {
   "cell_type": "code",
   "execution_count": 53,
   "metadata": {},
   "outputs": [
    {
     "data": {
      "text/plain": [
       "array([[1, 2],\n",
       "       [3, 4],\n",
       "       [5, 6]])"
      ]
     },
     "execution_count": 53,
     "metadata": {},
     "output_type": "execute_result"
    }
   ],
   "source": [
    "a1 = [1, 2, 3]\n",
    "a2 = [4, 5, 6]\n",
    "array_2 = np.array([a1, a2])\n",
    "array_2\n",
    "\n",
    "#세로로는 못 쌓나요? ㅠㅠ\n",
    "np.array([a1, a2]).reshape(3,2) "
   ]
  },
  {
   "cell_type": "code",
   "execution_count": 54,
   "metadata": {},
   "outputs": [
    {
     "data": {
      "text/plain": [
       "array([0, 2, 4, 6, 8])"
      ]
     },
     "execution_count": 54,
     "metadata": {},
     "output_type": "execute_result"
    }
   ],
   "source": [
    "np.arange(0, 10) #start, end, step\n",
    "np.arange(0, 10, 2)"
   ]
  },
  {
   "cell_type": "code",
   "execution_count": 55,
   "metadata": {},
   "outputs": [
    {
     "data": {
      "text/plain": [
       "array([[1, 2],\n",
       "       [3, 4],\n",
       "       [5, 6]])"
      ]
     },
     "execution_count": 55,
     "metadata": {},
     "output_type": "execute_result"
    }
   ],
   "source": [
    "array_2 = np.arange(1, 7).reshape(3,2) #3행 2열\n",
    "array_2"
   ]
  },
  {
   "cell_type": "code",
   "execution_count": 56,
   "metadata": {},
   "outputs": [
    {
     "data": {
      "text/plain": [
       "array([  1.,  12.,  23.,  34.,  45.,  56.,  67.,  78.,  89., 100.])"
      ]
     },
     "execution_count": 56,
     "metadata": {},
     "output_type": "execute_result"
    }
   ],
   "source": [
    "np.linspace(1, 100, 10) #start, end, 개수\n",
    "#왜 이렇게 나오는지 이해가 잘 안돼..\n"
   ]
  },
  {
   "cell_type": "code",
   "execution_count": 57,
   "metadata": {},
   "outputs": [
    {
     "data": {
      "text/plain": [
       "array([1, 2, 3])"
      ]
     },
     "execution_count": 57,
     "metadata": {},
     "output_type": "execute_result"
    }
   ],
   "source": [
    "a6 = np.array(['1.5', '2.3', '3.2'])\n",
    "a6 = a6.astype(float)\n",
    "a6.astype(int)"
   ]
  },
  {
   "cell_type": "code",
   "execution_count": 58,
   "metadata": {},
   "outputs": [
    {
     "data": {
      "text/plain": [
       "array([3., 4.])"
      ]
     },
     "execution_count": 58,
     "metadata": {},
     "output_type": "execute_result"
    }
   ],
   "source": [
    "array_2.mean(axis = 0)"
   ]
  },
  {
   "cell_type": "code",
   "execution_count": null,
   "metadata": {},
   "outputs": [],
   "source": []
  },
  {
   "cell_type": "code",
   "execution_count": null,
   "metadata": {},
   "outputs": [],
   "source": []
  },
  {
   "cell_type": "code",
   "execution_count": null,
   "metadata": {},
   "outputs": [],
   "source": []
  },
  {
   "cell_type": "code",
   "execution_count": null,
   "metadata": {},
   "outputs": [],
   "source": []
  },
  {
   "cell_type": "code",
   "execution_count": null,
   "metadata": {},
   "outputs": [],
   "source": []
  },
  {
   "cell_type": "code",
   "execution_count": null,
   "metadata": {},
   "outputs": [],
   "source": []
  },
  {
   "cell_type": "code",
   "execution_count": null,
   "metadata": {},
   "outputs": [],
   "source": []
  },
  {
   "cell_type": "code",
   "execution_count": null,
   "metadata": {},
   "outputs": [],
   "source": []
  },
  {
   "cell_type": "code",
   "execution_count": null,
   "metadata": {},
   "outputs": [],
   "source": []
  },
  {
   "cell_type": "code",
   "execution_count": null,
   "metadata": {},
   "outputs": [],
   "source": []
  },
  {
   "cell_type": "code",
   "execution_count": null,
   "metadata": {},
   "outputs": [],
   "source": []
  },
  {
   "cell_type": "code",
   "execution_count": null,
   "metadata": {},
   "outputs": [],
   "source": []
  },
  {
   "cell_type": "code",
   "execution_count": null,
   "metadata": {},
   "outputs": [],
   "source": []
  },
  {
   "cell_type": "code",
   "execution_count": null,
   "metadata": {},
   "outputs": [],
   "source": []
  }
 ],
 "metadata": {
  "kernelspec": {
   "display_name": "Python 3",
   "language": "python",
   "name": "python3"
  },
  "language_info": {
   "codemirror_mode": {
    "name": "ipython",
    "version": 3
   },
   "file_extension": ".py",
   "mimetype": "text/x-python",
   "name": "python",
   "nbconvert_exporter": "python",
   "pygments_lexer": "ipython3",
   "version": "3.6.8"
  }
 },
 "nbformat": 4,
 "nbformat_minor": 2
}
